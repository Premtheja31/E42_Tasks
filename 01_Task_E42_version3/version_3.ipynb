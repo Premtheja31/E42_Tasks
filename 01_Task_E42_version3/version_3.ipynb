{
 "cells": [
  {
   "cell_type": "code",
   "execution_count": 1,
   "id": "ad69cd15",
   "metadata": {},
   "outputs": [],
   "source": [
    "fo=open(\"chatbot.txt\",\"r\")\n",
    "chatbot_data=fo.read()\n",
    "fo.close()"
   ]
  },
  {
   "cell_type": "code",
   "execution_count": 2,
   "id": "72945b85",
   "metadata": {},
   "outputs": [],
   "source": [
    "list_of_sentences=chatbot_data.replace(\"\\t\",\" \").split(\"\\n\")"
   ]
  },
  {
   "cell_type": "code",
   "execution_count": 3,
   "id": "d990a9a2",
   "metadata": {},
   "outputs": [],
   "source": [
    "import re\n",
    "from sklearn.feature_extraction.text import CountVectorizer"
   ]
  },
  {
   "cell_type": "code",
   "execution_count": 4,
   "id": "8d94aa2b",
   "metadata": {},
   "outputs": [],
   "source": [
    "def ngram_to_list(sentences):\n",
    "    corpus=[]\n",
    "    count_is=0\n",
    "    for i in sentences:\n",
    "        review=re.sub(\"[^a-zA-Z]\",\" \",i)\n",
    "        corpus.append(review)\n",
    "        if len(i)>count_is:\n",
    "            count_is=len(i)\n",
    "    cv=CountVectorizer(binary=True,ngram_range=(1,count_is))\n",
    "    X=cv.fit_transform(corpus)\n",
    "    list_ngrams=list(cv.vocabulary_)\n",
    "    return list_ngrams\n"
   ]
  },
  {
   "cell_type": "code",
   "execution_count": 5,
   "id": "def3335a",
   "metadata": {},
   "outputs": [
    {
     "name": "stdout",
     "output_type": "stream",
     "text": [
      "90834\n"
     ]
    }
   ],
   "source": [
    "corpus_of_normal_text=ngram_to_list(list_of_sentences)\n",
    "print(len(corpus_of_normal_text))"
   ]
  },
  {
   "cell_type": "code",
   "execution_count": 6,
   "id": "e3144893",
   "metadata": {},
   "outputs": [],
   "source": [
    "import pandas as pd"
   ]
  },
  {
   "cell_type": "markdown",
   "id": "aa3b5fb4",
   "metadata": {},
   "source": [
    "# Creating dataframe of normal text"
   ]
  },
  {
   "cell_type": "code",
   "execution_count": 7,
   "id": "ff2d1ddf",
   "metadata": {},
   "outputs": [],
   "source": [
    "df_chat={}\n",
    "df_chat[\"Response\"]=corpus_of_normal_text\n",
    "df_chat[\"Label\"]=[0 for i in range(len(corpus_of_normal_text))]\n",
    "df_chat=pd.DataFrame(df_chat)"
   ]
  },
  {
   "cell_type": "code",
   "execution_count": 8,
   "id": "02516ac0",
   "metadata": {},
   "outputs": [
    {
     "name": "stdout",
     "output_type": "stream",
     "text": [
      "(90834, 2)\n",
      "total no of unique values are :\n",
      "Response    90834\n",
      "Label           1\n",
      "dtype: int64\n"
     ]
    },
    {
     "data": {
      "text/html": [
       "<div>\n",
       "<style scoped>\n",
       "    .dataframe tbody tr th:only-of-type {\n",
       "        vertical-align: middle;\n",
       "    }\n",
       "\n",
       "    .dataframe tbody tr th {\n",
       "        vertical-align: top;\n",
       "    }\n",
       "\n",
       "    .dataframe thead th {\n",
       "        text-align: right;\n",
       "    }\n",
       "</style>\n",
       "<table border=\"1\" class=\"dataframe\">\n",
       "  <thead>\n",
       "    <tr style=\"text-align: right;\">\n",
       "      <th></th>\n",
       "      <th>Response</th>\n",
       "      <th>Label</th>\n",
       "    </tr>\n",
       "  </thead>\n",
       "  <tbody>\n",
       "    <tr>\n",
       "      <th>0</th>\n",
       "      <td>what</td>\n",
       "      <td>0</td>\n",
       "    </tr>\n",
       "    <tr>\n",
       "      <th>1</th>\n",
       "      <td>are</td>\n",
       "      <td>0</td>\n",
       "    </tr>\n",
       "    <tr>\n",
       "      <th>2</th>\n",
       "      <td>your</td>\n",
       "      <td>0</td>\n",
       "    </tr>\n",
       "    <tr>\n",
       "      <th>3</th>\n",
       "      <td>interests</td>\n",
       "      <td>0</td>\n",
       "    </tr>\n",
       "    <tr>\n",
       "      <th>4</th>\n",
       "      <td>am</td>\n",
       "      <td>0</td>\n",
       "    </tr>\n",
       "  </tbody>\n",
       "</table>\n",
       "</div>"
      ],
      "text/plain": [
       "    Response  Label\n",
       "0       what      0\n",
       "1        are      0\n",
       "2       your      0\n",
       "3  interests      0\n",
       "4         am      0"
      ]
     },
     "execution_count": 8,
     "metadata": {},
     "output_type": "execute_result"
    }
   ],
   "source": [
    "print(df_chat.shape)\n",
    "print(\"total no of unique values are :\")\n",
    "print(df_chat.nunique())\n",
    "df_chat.head()"
   ]
  },
  {
   "cell_type": "markdown",
   "id": "bb7570b0",
   "metadata": {},
   "source": [
    "# Creating dataframe of gibberish text"
   ]
  },
  {
   "cell_type": "code",
   "execution_count": 9,
   "id": "d24d11c2",
   "metadata": {},
   "outputs": [],
   "source": [
    "df_gibberish=pd.read_csv(\"Gibberish.csv\")"
   ]
  },
  {
   "cell_type": "code",
   "execution_count": 10,
   "id": "908a4370",
   "metadata": {},
   "outputs": [
    {
     "name": "stdout",
     "output_type": "stream",
     "text": [
      "(3767, 2)\n",
      "total no of unique values are :\n",
      "Response    3516\n",
      "Label          1\n",
      "dtype: int64\n"
     ]
    },
    {
     "data": {
      "text/html": [
       "<div>\n",
       "<style scoped>\n",
       "    .dataframe tbody tr th:only-of-type {\n",
       "        vertical-align: middle;\n",
       "    }\n",
       "\n",
       "    .dataframe tbody tr th {\n",
       "        vertical-align: top;\n",
       "    }\n",
       "\n",
       "    .dataframe thead th {\n",
       "        text-align: right;\n",
       "    }\n",
       "</style>\n",
       "<table border=\"1\" class=\"dataframe\">\n",
       "  <thead>\n",
       "    <tr style=\"text-align: right;\">\n",
       "      <th></th>\n",
       "      <th>Response</th>\n",
       "      <th>Label</th>\n",
       "    </tr>\n",
       "  </thead>\n",
       "  <tbody>\n",
       "    <tr>\n",
       "      <th>0</th>\n",
       "      <td>ggg</td>\n",
       "      <td>1</td>\n",
       "    </tr>\n",
       "    <tr>\n",
       "      <th>1</th>\n",
       "      <td>hgghghghghghghhg</td>\n",
       "      <td>1</td>\n",
       "    </tr>\n",
       "    <tr>\n",
       "      <th>2</th>\n",
       "      <td>ufdhgjndfnvbhfdjvnjkmfgbdfg</td>\n",
       "      <td>1</td>\n",
       "    </tr>\n",
       "    <tr>\n",
       "      <th>3</th>\n",
       "      <td>dbdbdbd</td>\n",
       "      <td>1</td>\n",
       "    </tr>\n",
       "    <tr>\n",
       "      <th>4</th>\n",
       "      <td>dfgdfgd</td>\n",
       "      <td>1</td>\n",
       "    </tr>\n",
       "  </tbody>\n",
       "</table>\n",
       "</div>"
      ],
      "text/plain": [
       "                      Response  Label\n",
       "0                          ggg      1\n",
       "1             hgghghghghghghhg      1\n",
       "2  ufdhgjndfnvbhfdjvnjkmfgbdfg      1\n",
       "3                      dbdbdbd      1\n",
       "4                      dfgdfgd      1"
      ]
     },
     "execution_count": 10,
     "metadata": {},
     "output_type": "execute_result"
    }
   ],
   "source": [
    "print(df_gibberish.shape)\n",
    "print(\"total no of unique values are :\")\n",
    "print(df_gibberish.nunique())\n",
    "df_gibberish.head()"
   ]
  },
  {
   "cell_type": "code",
   "execution_count": 11,
   "id": "f6b4b671",
   "metadata": {},
   "outputs": [],
   "source": [
    "list_of_gibberish=list(df_gibberish[\"Response\"])"
   ]
  },
  {
   "cell_type": "code",
   "execution_count": 12,
   "id": "508d8b74",
   "metadata": {},
   "outputs": [
    {
     "name": "stdout",
     "output_type": "stream",
     "text": [
      "23239\n"
     ]
    }
   ],
   "source": [
    "corpus_of_gibberish_text=ngram_to_list(list_of_gibberish)\n",
    "print(len(corpus_of_gibberish_text))"
   ]
  },
  {
   "cell_type": "code",
   "execution_count": 13,
   "id": "4e379489",
   "metadata": {},
   "outputs": [],
   "source": [
    "df_gibberish={}\n",
    "df_gibberish[\"Response\"]=corpus_of_gibberish_text\n",
    "df_gibberish[\"Label\"]=[1 for i in range(len(corpus_of_gibberish_text))]\n",
    "df_gibberish=pd.DataFrame(df_gibberish)"
   ]
  },
  {
   "cell_type": "code",
   "execution_count": 14,
   "id": "09b42b89",
   "metadata": {},
   "outputs": [
    {
     "name": "stdout",
     "output_type": "stream",
     "text": [
      "(23239, 2)\n",
      "total no of unique values are :\n",
      "Response    23239\n",
      "Label           1\n",
      "dtype: int64\n"
     ]
    },
    {
     "data": {
      "text/html": [
       "<div>\n",
       "<style scoped>\n",
       "    .dataframe tbody tr th:only-of-type {\n",
       "        vertical-align: middle;\n",
       "    }\n",
       "\n",
       "    .dataframe tbody tr th {\n",
       "        vertical-align: top;\n",
       "    }\n",
       "\n",
       "    .dataframe thead th {\n",
       "        text-align: right;\n",
       "    }\n",
       "</style>\n",
       "<table border=\"1\" class=\"dataframe\">\n",
       "  <thead>\n",
       "    <tr style=\"text-align: right;\">\n",
       "      <th></th>\n",
       "      <th>Response</th>\n",
       "      <th>Label</th>\n",
       "    </tr>\n",
       "  </thead>\n",
       "  <tbody>\n",
       "    <tr>\n",
       "      <th>0</th>\n",
       "      <td>ggg</td>\n",
       "      <td>1</td>\n",
       "    </tr>\n",
       "    <tr>\n",
       "      <th>1</th>\n",
       "      <td>hgghghghghghghhg</td>\n",
       "      <td>1</td>\n",
       "    </tr>\n",
       "    <tr>\n",
       "      <th>2</th>\n",
       "      <td>ufdhgjndfnvbhfdjvnjkmfgbdfg</td>\n",
       "      <td>1</td>\n",
       "    </tr>\n",
       "    <tr>\n",
       "      <th>3</th>\n",
       "      <td>dbdbdbd</td>\n",
       "      <td>1</td>\n",
       "    </tr>\n",
       "    <tr>\n",
       "      <th>4</th>\n",
       "      <td>dfgdfgd</td>\n",
       "      <td>1</td>\n",
       "    </tr>\n",
       "  </tbody>\n",
       "</table>\n",
       "</div>"
      ],
      "text/plain": [
       "                      Response  Label\n",
       "0                          ggg      1\n",
       "1             hgghghghghghghhg      1\n",
       "2  ufdhgjndfnvbhfdjvnjkmfgbdfg      1\n",
       "3                      dbdbdbd      1\n",
       "4                      dfgdfgd      1"
      ]
     },
     "execution_count": 14,
     "metadata": {},
     "output_type": "execute_result"
    }
   ],
   "source": [
    "print(df_gibberish.shape)\n",
    "print(\"total no of unique values are :\")\n",
    "print(df_gibberish.nunique())\n",
    "df_gibberish.head()"
   ]
  },
  {
   "cell_type": "markdown",
   "id": "f7322704",
   "metadata": {},
   "source": [
    "# combining df_chat and df_gibberish"
   ]
  },
  {
   "cell_type": "code",
   "execution_count": 15,
   "id": "35b96407",
   "metadata": {},
   "outputs": [],
   "source": [
    "df_main=pd.concat([df_gibberish,df_chat],ignore_index=True)"
   ]
  },
  {
   "cell_type": "code",
   "execution_count": 16,
   "id": "c26caa38",
   "metadata": {},
   "outputs": [
    {
     "name": "stdout",
     "output_type": "stream",
     "text": [
      "(114073, 2)\n",
      "total no of unique values are :\n",
      "Response    113989\n",
      "Label            2\n",
      "dtype: int64\n"
     ]
    },
    {
     "data": {
      "text/html": [
       "<div>\n",
       "<style scoped>\n",
       "    .dataframe tbody tr th:only-of-type {\n",
       "        vertical-align: middle;\n",
       "    }\n",
       "\n",
       "    .dataframe tbody tr th {\n",
       "        vertical-align: top;\n",
       "    }\n",
       "\n",
       "    .dataframe thead th {\n",
       "        text-align: right;\n",
       "    }\n",
       "</style>\n",
       "<table border=\"1\" class=\"dataframe\">\n",
       "  <thead>\n",
       "    <tr style=\"text-align: right;\">\n",
       "      <th></th>\n",
       "      <th>Response</th>\n",
       "      <th>Label</th>\n",
       "    </tr>\n",
       "  </thead>\n",
       "  <tbody>\n",
       "    <tr>\n",
       "      <th>0</th>\n",
       "      <td>ggg</td>\n",
       "      <td>1</td>\n",
       "    </tr>\n",
       "    <tr>\n",
       "      <th>1</th>\n",
       "      <td>hgghghghghghghhg</td>\n",
       "      <td>1</td>\n",
       "    </tr>\n",
       "    <tr>\n",
       "      <th>2</th>\n",
       "      <td>ufdhgjndfnvbhfdjvnjkmfgbdfg</td>\n",
       "      <td>1</td>\n",
       "    </tr>\n",
       "    <tr>\n",
       "      <th>3</th>\n",
       "      <td>dbdbdbd</td>\n",
       "      <td>1</td>\n",
       "    </tr>\n",
       "    <tr>\n",
       "      <th>4</th>\n",
       "      <td>dfgdfgd</td>\n",
       "      <td>1</td>\n",
       "    </tr>\n",
       "  </tbody>\n",
       "</table>\n",
       "</div>"
      ],
      "text/plain": [
       "                      Response  Label\n",
       "0                          ggg      1\n",
       "1             hgghghghghghghhg      1\n",
       "2  ufdhgjndfnvbhfdjvnjkmfgbdfg      1\n",
       "3                      dbdbdbd      1\n",
       "4                      dfgdfgd      1"
      ]
     },
     "execution_count": 16,
     "metadata": {},
     "output_type": "execute_result"
    }
   ],
   "source": [
    "print(df_main.shape)\n",
    "print(\"total no of unique values are :\")\n",
    "print(df_main.nunique())\n",
    "df_main.head()"
   ]
  },
  {
   "cell_type": "code",
   "execution_count": 17,
   "id": "61706290",
   "metadata": {},
   "outputs": [
    {
     "data": {
      "text/html": [
       "<div>\n",
       "<style scoped>\n",
       "    .dataframe tbody tr th:only-of-type {\n",
       "        vertical-align: middle;\n",
       "    }\n",
       "\n",
       "    .dataframe tbody tr th {\n",
       "        vertical-align: top;\n",
       "    }\n",
       "\n",
       "    .dataframe thead th {\n",
       "        text-align: right;\n",
       "    }\n",
       "</style>\n",
       "<table border=\"1\" class=\"dataframe\">\n",
       "  <thead>\n",
       "    <tr style=\"text-align: right;\">\n",
       "      <th></th>\n",
       "      <th>Response</th>\n",
       "      <th>Label</th>\n",
       "    </tr>\n",
       "  </thead>\n",
       "  <tbody>\n",
       "    <tr>\n",
       "      <th>114068</th>\n",
       "      <td>use sense similar to sonar to determine the lo...</td>\n",
       "      <td>0</td>\n",
       "    </tr>\n",
       "    <tr>\n",
       "      <th>114069</th>\n",
       "      <td>sense similar to sonar to determine the locati...</td>\n",
       "      <td>0</td>\n",
       "    </tr>\n",
       "    <tr>\n",
       "      <th>114070</th>\n",
       "      <td>dolphins use sense similar to sonar to determi...</td>\n",
       "      <td>0</td>\n",
       "    </tr>\n",
       "    <tr>\n",
       "      <th>114071</th>\n",
       "      <td>use sense similar to sonar to determine the lo...</td>\n",
       "      <td>0</td>\n",
       "    </tr>\n",
       "    <tr>\n",
       "      <th>114072</th>\n",
       "      <td>dolphins use sense similar to sonar to determi...</td>\n",
       "      <td>0</td>\n",
       "    </tr>\n",
       "  </tbody>\n",
       "</table>\n",
       "</div>"
      ],
      "text/plain": [
       "                                                 Response  Label\n",
       "114068  use sense similar to sonar to determine the lo...      0\n",
       "114069  sense similar to sonar to determine the locati...      0\n",
       "114070  dolphins use sense similar to sonar to determi...      0\n",
       "114071  use sense similar to sonar to determine the lo...      0\n",
       "114072  dolphins use sense similar to sonar to determi...      0"
      ]
     },
     "execution_count": 17,
     "metadata": {},
     "output_type": "execute_result"
    }
   ],
   "source": [
    "df_main.tail()"
   ]
  },
  {
   "cell_type": "markdown",
   "id": "02afa761",
   "metadata": {},
   "source": [
    "# converting of text to tokens"
   ]
  },
  {
   "cell_type": "code",
   "execution_count": 18,
   "id": "dcb1353b",
   "metadata": {},
   "outputs": [],
   "source": [
    "from tensorflow.keras.preprocessing.text import Tokenizer"
   ]
  },
  {
   "cell_type": "code",
   "execution_count": 19,
   "id": "56432309",
   "metadata": {},
   "outputs": [],
   "source": [
    "vocab=100000"
   ]
  },
  {
   "cell_type": "code",
   "execution_count": 30,
   "id": "93df74d0",
   "metadata": {},
   "outputs": [
    {
     "data": {
      "text/plain": [
       "1854"
      ]
     },
     "execution_count": 30,
     "metadata": {},
     "output_type": "execute_result"
    }
   ],
   "source": [
    "sentences=[]\n",
    "for i in list(df_chat[\"Response\"]):\n",
    "    review=re.sub(\"[^a-zA-Z]\",\" \",i)\n",
    "    review=review.split()\n",
    "    review=[i for i in review if i not in sentences and len(i)>1]\n",
    "    sentences.extend(review)\n",
    "len(sentences)"
   ]
  },
  {
   "cell_type": "code",
   "execution_count": 31,
   "id": "975ea708",
   "metadata": {},
   "outputs": [],
   "source": [
    "fo=open(\"paragraph.txt\",\"r\")\n",
    "fo_text=fo.read()\n",
    "fo.close()"
   ]
  },
  {
   "cell_type": "code",
   "execution_count": 32,
   "id": "afcdf5fb",
   "metadata": {},
   "outputs": [
    {
     "data": {
      "text/plain": [
       "3920"
      ]
     },
     "execution_count": 32,
     "metadata": {},
     "output_type": "execute_result"
    }
   ],
   "source": [
    "for i in fo_text.split():\n",
    "    i=re.sub(\"[^a-zA-Z]\",\"\",i)\n",
    "    if i not in sentences and len(i)>1:\n",
    "        sentences.append(i)\n",
    "len(sentences)"
   ]
  },
  {
   "cell_type": "code",
   "execution_count": 34,
   "id": "1e2fec24",
   "metadata": {},
   "outputs": [],
   "source": [
    "tokenizer=Tokenizer(num_words=vocab,oov_token=\"<OOV>\")"
   ]
  },
  {
   "cell_type": "code",
   "execution_count": 35,
   "id": "0dacead1",
   "metadata": {},
   "outputs": [],
   "source": [
    "tokenizer.fit_on_texts(sentences)"
   ]
  },
  {
   "cell_type": "code",
   "execution_count": 36,
   "id": "a69a7194",
   "metadata": {},
   "outputs": [
    {
     "data": {
      "text/plain": [
       "3618"
      ]
     },
     "execution_count": 36,
     "metadata": {},
     "output_type": "execute_result"
    }
   ],
   "source": [
    "len(tokenizer.word_index)"
   ]
  },
  {
   "cell_type": "code",
   "execution_count": 37,
   "id": "0db4d6ef",
   "metadata": {},
   "outputs": [],
   "source": [
    "sequences=tokenizer.texts_to_sequences(df_main[\"Response\"])"
   ]
  },
  {
   "cell_type": "code",
   "execution_count": 38,
   "id": "8ae1bb34",
   "metadata": {},
   "outputs": [
    {
     "name": "stdout",
     "output_type": "stream",
     "text": [
      "69\n"
     ]
    }
   ],
   "source": [
    "max_len=0\n",
    "for i in sequences:\n",
    "    if len(i)>max_len:\n",
    "        max_len=len(i)\n",
    "print(max_len)"
   ]
  },
  {
   "cell_type": "code",
   "execution_count": 39,
   "id": "c4520210",
   "metadata": {},
   "outputs": [],
   "source": [
    "from tensorflow.keras.preprocessing.sequence import pad_sequences"
   ]
  },
  {
   "cell_type": "code",
   "execution_count": 40,
   "id": "4aee90a3",
   "metadata": {},
   "outputs": [],
   "source": [
    "padded=pad_sequences(sequences,maxlen=max_len)"
   ]
  },
  {
   "cell_type": "code",
   "execution_count": 45,
   "id": "07dfd017",
   "metadata": {},
   "outputs": [
    {
     "data": {
      "text/plain": [
       "array([[   0,    0,    0, ...,    0,    0,    1],\n",
       "       [   0,    0,    0, ...,    0,    0,    1],\n",
       "       [   0,    0,    0, ...,    0,    0,    1],\n",
       "       ...,\n",
       "       [   0,    0,    0, ...,    3, 1956, 1957],\n",
       "       [   0,    0,    0, ..., 1956, 1957, 1958],\n",
       "       [   0,    0,    0, ..., 1956, 1957, 1958]])"
      ]
     },
     "execution_count": 45,
     "metadata": {},
     "output_type": "execute_result"
    }
   ],
   "source": [
    "padded"
   ]
  },
  {
   "cell_type": "markdown",
   "id": "7eaf00a9",
   "metadata": {},
   "source": [
    "# splitting training and test data"
   ]
  },
  {
   "cell_type": "code",
   "execution_count": 46,
   "id": "ddbd5442",
   "metadata": {},
   "outputs": [],
   "source": [
    "from sklearn.model_selection import train_test_split"
   ]
  },
  {
   "cell_type": "code",
   "execution_count": 48,
   "id": "75117d16",
   "metadata": {},
   "outputs": [],
   "source": [
    "X_train, X_test, y_train, y_test = train_test_split(padded, df_main[\"Label\"], test_size=0.40,random_state=0)"
   ]
  },
  {
   "cell_type": "code",
   "execution_count": 49,
   "id": "bb37200c",
   "metadata": {},
   "outputs": [
    {
     "name": "stdout",
     "output_type": "stream",
     "text": [
      "the shape of X_train is :  (68443, 69)\n",
      "the shape of X_test is :  (45630, 69)\n",
      "the shape of y_train is :  (68443,)\n",
      "the shape of y_test is :  (45630,)\n"
     ]
    }
   ],
   "source": [
    "print(\"the shape of X_train is : \",X_train.shape)\n",
    "print(\"the shape of X_test is : \",X_test.shape)\n",
    "print(\"the shape of y_train is : \",y_train.shape)\n",
    "print(\"the shape of y_test is : \",y_test.shape)"
   ]
  },
  {
   "cell_type": "code",
   "execution_count": 50,
   "id": "eec7e32d",
   "metadata": {},
   "outputs": [
    {
     "name": "stdout",
     "output_type": "stream",
     "text": [
      "0    36313\n",
      "1     9317\n",
      "Name: Label, dtype: int64\n"
     ]
    }
   ],
   "source": [
    "print(y_test.value_counts())"
   ]
  },
  {
   "cell_type": "code",
   "execution_count": 51,
   "id": "0d189530",
   "metadata": {},
   "outputs": [],
   "source": [
    "import keras"
   ]
  },
  {
   "cell_type": "code",
   "execution_count": 52,
   "id": "27437035",
   "metadata": {},
   "outputs": [],
   "source": [
    "model = keras.models.Sequential([\n",
    "    keras.layers.Embedding(vocab, 64),\n",
    "    keras.layers.GlobalAveragePooling1D(),\n",
    "    keras.layers.Dense(64, activation=\"relu\"),\n",
    "    keras.layers.Dropout(rate=0.25),\n",
    "    keras.layers.Dense(32, activation=\"relu\"),\n",
    "    keras.layers.Dropout(rate=0.25),\n",
    "    keras.layers.Dense(1, activation=\"sigmoid\")\n",
    "])"
   ]
  },
  {
   "cell_type": "code",
   "execution_count": 53,
   "id": "625e1947",
   "metadata": {},
   "outputs": [],
   "source": [
    "model.compile(optimizer=\"adam\",loss='binary_crossentropy',metrics=[\"acc\"])"
   ]
  },
  {
   "cell_type": "code",
   "execution_count": 54,
   "id": "af2ed846",
   "metadata": {},
   "outputs": [
    {
     "name": "stdout",
     "output_type": "stream",
     "text": [
      "2139/2139 [==============================] - 309s 143ms/step - loss: 0.0522 - acc: 0.9819 - val_loss: 0.0099 - val_acc: 0.9982\n"
     ]
    }
   ],
   "source": [
    "history = model.fit(X_train, y_train, epochs=1, validation_data=(X_test, y_test),  verbose=1)"
   ]
  },
  {
   "cell_type": "code",
   "execution_count": 55,
   "id": "4e3b1143",
   "metadata": {},
   "outputs": [
    {
     "name": "stdout",
     "output_type": "stream",
     "text": [
      "1426/1426 [==============================] - 4s 3ms/step\n"
     ]
    }
   ],
   "source": [
    "y_predict=model.predict(X_test)"
   ]
  },
  {
   "cell_type": "code",
   "execution_count": 56,
   "id": "57b83f7e",
   "metadata": {},
   "outputs": [],
   "source": [
    "y_predict=y_predict>0.5"
   ]
  },
  {
   "cell_type": "code",
   "execution_count": 57,
   "id": "6ee774ac",
   "metadata": {},
   "outputs": [],
   "source": [
    "from sklearn.metrics import accuracy_score,classification_report"
   ]
  },
  {
   "cell_type": "code",
   "execution_count": 58,
   "id": "1e066c62",
   "metadata": {},
   "outputs": [
    {
     "data": {
      "text/plain": [
       "0.9982467674775367"
      ]
     },
     "execution_count": 58,
     "metadata": {},
     "output_type": "execute_result"
    }
   ],
   "source": [
    "accuracy_score(y_predict,y_test)"
   ]
  },
  {
   "cell_type": "code",
   "execution_count": 59,
   "id": "80375980",
   "metadata": {},
   "outputs": [
    {
     "name": "stdout",
     "output_type": "stream",
     "text": [
      "              precision    recall  f1-score   support\n",
      "\n",
      "       False       1.00      1.00      1.00     36393\n",
      "        True       0.99      1.00      1.00      9237\n",
      "\n",
      "    accuracy                           1.00     45630\n",
      "   macro avg       1.00      1.00      1.00     45630\n",
      "weighted avg       1.00      1.00      1.00     45630\n",
      "\n"
     ]
    }
   ],
   "source": [
    "print(classification_report(y_predict,y_test))"
   ]
  },
  {
   "cell_type": "markdown",
   "id": "4320cb06",
   "metadata": {},
   "source": [
    "# testing the text"
   ]
  },
  {
   "cell_type": "markdown",
   "id": "e6d236c4",
   "metadata": {},
   "source": [
    "1. named entities cant be recognized\n",
    "2. spelling mistakes are taken as gibberish\n",
    "3. shortcuts cant be predicted\n",
    "4. mixture of gibberish and normal text classification is sometimes unpredictable it depends on maximum no of words\n",
    "5. symbols are taken as normal text but by adding additional data of symbols to dataframe can help the model to predict\n",
    "6. it will not work for multi class classification"
   ]
  },
  {
   "cell_type": "code",
   "execution_count": 103,
   "id": "bebab4f8",
   "metadata": {},
   "outputs": [],
   "source": [
    "def testing_text(text):\n",
    "    dummy=[]\n",
    "    dummy.append(text)\n",
    "    sequences=tokenizer.texts_to_sequences(dummy)\n",
    "    print(sequences)\n",
    "    padded=pad_sequences(sequences,maxlen=max_len)\n",
    "    print(padded)\n",
    "    y=model.predict(padded)\n",
    "    print(\"predicted value :\",y)\n",
    "    y=y>0.5\n",
    "    if y:\n",
    "        print(\"text is gibberish\")\n",
    "    else:\n",
    "        print(\"text is normal\")"
   ]
  },
  {
   "cell_type": "code",
   "execution_count": 104,
   "id": "11e0da97",
   "metadata": {},
   "outputs": [
    {
     "name": "stdout",
     "output_type": "stream",
     "text": [
      "[[1794, 1034, 58, 293, 25, 782]]\n",
      "[[   0    0    0    0    0    0    0    0    0    0    0    0    0    0\n",
      "     0    0    0    0    0    0    0    0    0    0    0    0    0    0\n",
      "     0    0    0    0    0    0    0    0    0    0    0    0    0    0\n",
      "     0    0    0    0    0    0    0    0    0    0    0    0    0    0\n",
      "     0    0    0    0    0    0    0 1794 1034   58  293   25  782]]\n",
      "1/1 [==============================] - 0s 143ms/step\n",
      "predicted value : [[8.567931e-06]]\n",
      "text is normal\n"
     ]
    }
   ],
   "source": [
    "testing_text(\"hello morning how are you doing\")"
   ]
  },
  {
   "cell_type": "code",
   "execution_count": 105,
   "id": "dad99781",
   "metadata": {},
   "outputs": [
    {
     "name": "stdout",
     "output_type": "stream",
     "text": [
      "[[1794]]\n",
      "[[   0    0    0    0    0    0    0    0    0    0    0    0    0    0\n",
      "     0    0    0    0    0    0    0    0    0    0    0    0    0    0\n",
      "     0    0    0    0    0    0    0    0    0    0    0    0    0    0\n",
      "     0    0    0    0    0    0    0    0    0    0    0    0    0    0\n",
      "     0    0    0    0    0    0    0    0    0    0    0    0 1794]]\n",
      "1/1 [==============================] - 0s 177ms/step\n",
      "predicted value : [[0.00441073]]\n",
      "text is normal\n"
     ]
    }
   ],
   "source": [
    "testing_text(\"hello\")"
   ]
  },
  {
   "cell_type": "code",
   "execution_count": 106,
   "id": "2e8ec43f",
   "metadata": {},
   "outputs": [
    {
     "name": "stdout",
     "output_type": "stream",
     "text": [
      "[[1]]\n",
      "[[0 0 0 0 0 0 0 0 0 0 0 0 0 0 0 0 0 0 0 0 0 0 0 0 0 0 0 0 0 0 0 0 0 0 0 0\n",
      "  0 0 0 0 0 0 0 0 0 0 0 0 0 0 0 0 0 0 0 0 0 0 0 0 0 0 0 0 0 0 0 0 1]]\n",
      "1/1 [==============================] - 0s 117ms/step\n",
      "predicted value : [[0.98527795]]\n",
      "text is gibberish\n"
     ]
    }
   ],
   "source": [
    "testing_text(\"hlo\")"
   ]
  },
  {
   "cell_type": "code",
   "execution_count": 107,
   "id": "500336de",
   "metadata": {},
   "outputs": [
    {
     "name": "stdout",
     "output_type": "stream",
     "text": [
      "[[]]\n",
      "[[0 0 0 0 0 0 0 0 0 0 0 0 0 0 0 0 0 0 0 0 0 0 0 0 0 0 0 0 0 0 0 0 0 0 0 0\n",
      "  0 0 0 0 0 0 0 0 0 0 0 0 0 0 0 0 0 0 0 0 0 0 0 0 0 0 0 0 0 0 0 0 0]]\n",
      "1/1 [==============================] - 0s 159ms/step\n",
      "predicted value : [[0.00560622]]\n",
      "text is normal\n"
     ]
    }
   ],
   "source": [
    "testing_text(\"$#$%$^\")"
   ]
  },
  {
   "cell_type": "code",
   "execution_count": 108,
   "id": "d38b7397",
   "metadata": {},
   "outputs": [
    {
     "name": "stdout",
     "output_type": "stream",
     "text": [
      "[[]]\n",
      "[[0 0 0 0 0 0 0 0 0 0 0 0 0 0 0 0 0 0 0 0 0 0 0 0 0 0 0 0 0 0 0 0 0 0 0 0\n",
      "  0 0 0 0 0 0 0 0 0 0 0 0 0 0 0 0 0 0 0 0 0 0 0 0 0 0 0 0 0 0 0 0 0]]\n",
      "1/1 [==============================] - 0s 159ms/step\n",
      "predicted value : [[0.00560622]]\n",
      "text is normal\n"
     ]
    }
   ],
   "source": [
    "testing_text(\"()()()\")"
   ]
  },
  {
   "cell_type": "code",
   "execution_count": 109,
   "id": "0e9dd5ae",
   "metadata": {
    "scrolled": true
   },
   "outputs": [
    {
     "name": "stdout",
     "output_type": "stream",
     "text": [
      "[[1]]\n",
      "[[0 0 0 0 0 0 0 0 0 0 0 0 0 0 0 0 0 0 0 0 0 0 0 0 0 0 0 0 0 0 0 0 0 0 0 0\n",
      "  0 0 0 0 0 0 0 0 0 0 0 0 0 0 0 0 0 0 0 0 0 0 0 0 0 0 0 0 0 0 0 0 1]]\n",
      "1/1 [==============================] - 0s 116ms/step\n",
      "predicted value : [[0.98527795]]\n",
      "text is gibberish\n"
     ]
    }
   ],
   "source": [
    "testing_text(\"abc()()()\")"
   ]
  },
  {
   "cell_type": "code",
   "execution_count": 110,
   "id": "654a406c",
   "metadata": {},
   "outputs": [
    {
     "name": "stdout",
     "output_type": "stream",
     "text": [
      "[[1, 1, 1, 1, 1]]\n",
      "[[0 0 0 0 0 0 0 0 0 0 0 0 0 0 0 0 0 0 0 0 0 0 0 0 0 0 0 0 0 0 0 0 0 0 0 0\n",
      "  0 0 0 0 0 0 0 0 0 0 0 0 0 0 0 0 0 0 0 0 0 0 0 0 0 0 0 0 1 1 1 1 1]]\n",
      "1/1 [==============================] - 0s 119ms/step\n",
      "predicted value : [[1.]]\n",
      "text is gibberish\n"
     ]
    }
   ],
   "source": [
    "testing_text(\"jcjcj bdvd b khjbd hsdbc\")"
   ]
  },
  {
   "cell_type": "code",
   "execution_count": 111,
   "id": "fa6f7e51",
   "metadata": {},
   "outputs": [
    {
     "name": "stdout",
     "output_type": "stream",
     "text": [
      "[[1]]\n",
      "[[0 0 0 0 0 0 0 0 0 0 0 0 0 0 0 0 0 0 0 0 0 0 0 0 0 0 0 0 0 0 0 0 0 0 0 0\n",
      "  0 0 0 0 0 0 0 0 0 0 0 0 0 0 0 0 0 0 0 0 0 0 0 0 0 0 0 0 0 0 0 0 1]]\n",
      "1/1 [==============================] - 0s 119ms/step\n",
      "predicted value : [[0.98527795]]\n",
      "text is gibberish\n"
     ]
    }
   ],
   "source": [
    "testing_text(\"aq()()()\")"
   ]
  },
  {
   "cell_type": "code",
   "execution_count": 112,
   "id": "c0cd1c61",
   "metadata": {},
   "outputs": [
    {
     "name": "stdout",
     "output_type": "stream",
     "text": [
      "[[63, 1034, 1]]\n",
      "[[   0    0    0    0    0    0    0    0    0    0    0    0    0    0\n",
      "     0    0    0    0    0    0    0    0    0    0    0    0    0    0\n",
      "     0    0    0    0    0    0    0    0    0    0    0    0    0    0\n",
      "     0    0    0    0    0    0    0    0    0    0    0    0    0    0\n",
      "     0    0    0    0    0    0    0    0    0    0   63 1034    1]]\n",
      "1/1 [==============================] - 0s 164ms/step\n",
      "predicted value : [[0.99620086]]\n",
      "text is gibberish\n"
     ]
    }
   ],
   "source": [
    "testing_text(\"good morning gg\")"
   ]
  },
  {
   "cell_type": "code",
   "execution_count": 113,
   "id": "5a86e7e1",
   "metadata": {},
   "outputs": [
    {
     "name": "stdout",
     "output_type": "stream",
     "text": [
      "[[1, 63, 1034]]\n",
      "[[   0    0    0    0    0    0    0    0    0    0    0    0    0    0\n",
      "     0    0    0    0    0    0    0    0    0    0    0    0    0    0\n",
      "     0    0    0    0    0    0    0    0    0    0    0    0    0    0\n",
      "     0    0    0    0    0    0    0    0    0    0    0    0    0    0\n",
      "     0    0    0    0    0    0    0    0    0    0    1   63 1034]]\n",
      "1/1 [==============================] - 0s 120ms/step\n",
      "predicted value : [[0.99620086]]\n",
      "text is gibberish\n"
     ]
    }
   ],
   "source": [
    "testing_text(\"gg good morning\")"
   ]
  },
  {
   "cell_type": "code",
   "execution_count": 114,
   "id": "ab38d518",
   "metadata": {},
   "outputs": [
    {
     "name": "stdout",
     "output_type": "stream",
     "text": [
      "[[1, 1794, 1795, 58]]\n",
      "[[   0    0    0    0    0    0    0    0    0    0    0    0    0    0\n",
      "     0    0    0    0    0    0    0    0    0    0    0    0    0    0\n",
      "     0    0    0    0    0    0    0    0    0    0    0    0    0    0\n",
      "     0    0    0    0    0    0    0    0    0    0    0    0    0    0\n",
      "     0    0    0    0    0    0    0    0    0    1 1794 1795   58]]\n",
      "1/1 [==============================] - 0s 265ms/step\n",
      "predicted value : [[0.5238035]]\n",
      "text is gibberish\n"
     ]
    }
   ],
   "source": [
    "testing_text(\"qq hello hi how\")"
   ]
  },
  {
   "cell_type": "code",
   "execution_count": 115,
   "id": "63e66aad",
   "metadata": {},
   "outputs": [
    {
     "name": "stdout",
     "output_type": "stream",
     "text": [
      "[[1, 1794, 1795, 58, 293]]\n",
      "[[   0    0    0    0    0    0    0    0    0    0    0    0    0    0\n",
      "     0    0    0    0    0    0    0    0    0    0    0    0    0    0\n",
      "     0    0    0    0    0    0    0    0    0    0    0    0    0    0\n",
      "     0    0    0    0    0    0    0    0    0    0    0    0    0    0\n",
      "     0    0    0    0    0    0    0    0    1 1794 1795   58  293]]\n",
      "1/1 [==============================] - 0s 167ms/step\n",
      "predicted value : [[0.01068687]]\n",
      "text is normal\n"
     ]
    }
   ],
   "source": [
    "testing_text(\"qq hello hi how are\")"
   ]
  },
  {
   "cell_type": "code",
   "execution_count": 116,
   "id": "fd63d20c",
   "metadata": {},
   "outputs": [
    {
     "name": "stdout",
     "output_type": "stream",
     "text": [
      "[[1]]\n",
      "[[0 0 0 0 0 0 0 0 0 0 0 0 0 0 0 0 0 0 0 0 0 0 0 0 0 0 0 0 0 0 0 0 0 0 0 0\n",
      "  0 0 0 0 0 0 0 0 0 0 0 0 0 0 0 0 0 0 0 0 0 0 0 0 0 0 0 0 0 0 0 0 1]]\n",
      "1/1 [==============================] - 0s 143ms/step\n",
      "predicted value : [[0.98527795]]\n",
      "text is gibberish\n"
     ]
    }
   ],
   "source": [
    "testing_text(\"prem\")"
   ]
  },
  {
   "cell_type": "code",
   "execution_count": 117,
   "id": "883ff2c5",
   "metadata": {},
   "outputs": [
    {
     "name": "stdout",
     "output_type": "stream",
     "text": [
      "[[1794, 19, 81, 23, 1]]\n",
      "[[   0    0    0    0    0    0    0    0    0    0    0    0    0    0\n",
      "     0    0    0    0    0    0    0    0    0    0    0    0    0    0\n",
      "     0    0    0    0    0    0    0    0    0    0    0    0    0    0\n",
      "     0    0    0    0    0    0    0    0    0    0    0    0    0    0\n",
      "     0    0    0    0    0    0    0    0 1794   19   81   23    1]]\n",
      "1/1 [==============================] - 0s 121ms/step\n",
      "predicted value : [[0.01379605]]\n",
      "text is normal\n"
     ]
    }
   ],
   "source": [
    "testing_text(\"hello my name is prem\")"
   ]
  },
  {
   "cell_type": "code",
   "execution_count": 118,
   "id": "5ab4afe1",
   "metadata": {},
   "outputs": [
    {
     "name": "stdout",
     "output_type": "stream",
     "text": [
      "[[1]]\n",
      "[[0 0 0 0 0 0 0 0 0 0 0 0 0 0 0 0 0 0 0 0 0 0 0 0 0 0 0 0 0 0 0 0 0 0 0 0\n",
      "  0 0 0 0 0 0 0 0 0 0 0 0 0 0 0 0 0 0 0 0 0 0 0 0 0 0 0 0 0 0 0 0 1]]\n",
      "1/1 [==============================] - 0s 110ms/step\n",
      "predicted value : [[0.98527795]]\n",
      "text is gibberish\n"
     ]
    }
   ],
   "source": [
    "testing_text(\"pune\")"
   ]
  },
  {
   "cell_type": "code",
   "execution_count": 119,
   "id": "51c25960",
   "metadata": {},
   "outputs": [
    {
     "name": "stdout",
     "output_type": "stream",
     "text": [
      "[[19, 1882, 23, 1, 16, 1]]\n",
      "[[   0    0    0    0    0    0    0    0    0    0    0    0    0    0\n",
      "     0    0    0    0    0    0    0    0    0    0    0    0    0    0\n",
      "     0    0    0    0    0    0    0    0    0    0    0    0    0    0\n",
      "     0    0    0    0    0    0    0    0    0    0    0    0    0    0\n",
      "     0    0    0    0    0    0    0   19 1882   23    1   16    1]]\n",
      "1/1 [==============================] - 0s 180ms/step\n",
      "predicted value : [[0.99619013]]\n",
      "text is gibberish\n"
     ]
    }
   ],
   "source": [
    "testing_text(\"my company is located in pune\")"
   ]
  },
  {
   "cell_type": "code",
   "execution_count": 120,
   "id": "fac5d91c",
   "metadata": {},
   "outputs": [
    {
     "name": "stdout",
     "output_type": "stream",
     "text": [
      "[[19, 1882, 23, 16, 1]]\n",
      "[[   0    0    0    0    0    0    0    0    0    0    0    0    0    0\n",
      "     0    0    0    0    0    0    0    0    0    0    0    0    0    0\n",
      "     0    0    0    0    0    0    0    0    0    0    0    0    0    0\n",
      "     0    0    0    0    0    0    0    0    0    0    0    0    0    0\n",
      "     0    0    0    0    0    0    0    0   19 1882   23   16    1]]\n",
      "1/1 [==============================] - 0s 114ms/step\n",
      "predicted value : [[0.0111645]]\n",
      "text is normal\n"
     ]
    }
   ],
   "source": [
    "testing_text(\"my company is in pune\")"
   ]
  }
 ],
 "metadata": {
  "kernelspec": {
   "display_name": "Python 3 (ipykernel)",
   "language": "python",
   "name": "python3"
  },
  "language_info": {
   "codemirror_mode": {
    "name": "ipython",
    "version": 3
   },
   "file_extension": ".py",
   "mimetype": "text/x-python",
   "name": "python",
   "nbconvert_exporter": "python",
   "pygments_lexer": "ipython3",
   "version": "3.9.13"
  }
 },
 "nbformat": 4,
 "nbformat_minor": 5
}
