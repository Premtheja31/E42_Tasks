{
 "cells": [
  {
   "cell_type": "code",
   "execution_count": 1,
   "id": "3f0a504b",
   "metadata": {},
   "outputs": [],
   "source": [
    "fo=open(\"hindi_paragraph.txt\",\"r\")\n",
    "fo_text=fo.read()\n",
    "fo.close()"
   ]
  },
  {
   "cell_type": "code",
   "execution_count": 2,
   "id": "734f0d24",
   "metadata": {},
   "outputs": [],
   "source": [
    "sentences=fo_text.split(\".\")"
   ]
  },
  {
   "cell_type": "code",
   "execution_count": 3,
   "id": "39609623",
   "metadata": {},
   "outputs": [
    {
     "data": {
      "text/plain": [
       "154"
      ]
     },
     "execution_count": 3,
     "metadata": {},
     "output_type": "execute_result"
    }
   ],
   "source": [
    "len(sentences)"
   ]
  },
  {
   "cell_type": "code",
   "execution_count": 4,
   "id": "b100bda9",
   "metadata": {},
   "outputs": [],
   "source": [
    "import re\n",
    "from sklearn.feature_extraction.text import CountVectorizer"
   ]
  },
  {
   "cell_type": "code",
   "execution_count": 5,
   "id": "83abd8f7",
   "metadata": {},
   "outputs": [],
   "source": [
    "def ngram_to_list(sentences):\n",
    "    corpus=[]\n",
    "    count_is=0\n",
    "    for i in sentences:\n",
    "        review=re.sub(\"[^a-zA-Z]\",\" \",i)\n",
    "        corpus.append(review)\n",
    "        if len(i)>count_is:\n",
    "            count_is=len(i)\n",
    "    cv=CountVectorizer(binary=True,ngram_range=(1,count_is))\n",
    "    X=cv.fit_transform(corpus)\n",
    "    list_ngrams=list(cv.vocabulary_)\n",
    "    return list_ngrams\n"
   ]
  },
  {
   "cell_type": "code",
   "execution_count": 6,
   "id": "977e7687",
   "metadata": {},
   "outputs": [],
   "source": [
    "corpus_of_hindi_text=ngram_to_list(sentences)"
   ]
  },
  {
   "cell_type": "code",
   "execution_count": 7,
   "id": "e05617ec",
   "metadata": {},
   "outputs": [
    {
     "data": {
      "text/plain": [
       "30818"
      ]
     },
     "execution_count": 7,
     "metadata": {},
     "output_type": "execute_result"
    }
   ],
   "source": [
    "len(corpus_of_hindi_text)"
   ]
  },
  {
   "cell_type": "code",
   "execution_count": 8,
   "id": "b711cc25",
   "metadata": {},
   "outputs": [],
   "source": [
    "import pandas as pd"
   ]
  },
  {
   "cell_type": "markdown",
   "id": "ff9fdb7e",
   "metadata": {},
   "source": [
    "# Creating dataframe of hindi text"
   ]
  },
  {
   "cell_type": "code",
   "execution_count": 9,
   "id": "e563caba",
   "metadata": {},
   "outputs": [],
   "source": [
    "df_hindi={}\n",
    "df_hindi[\"Response\"]=corpus_of_hindi_text\n",
    "df_hindi[\"Label\"]=[1 for i in range(len(corpus_of_hindi_text))]\n",
    "df_hindi=pd.DataFrame(df_hindi)"
   ]
  },
  {
   "cell_type": "code",
   "execution_count": 10,
   "id": "94003494",
   "metadata": {},
   "outputs": [
    {
     "name": "stdout",
     "output_type": "stream",
     "text": [
      "(30818, 2)\n",
      "total no of unique values are :\n",
      "Response    30818\n",
      "Label           1\n",
      "dtype: int64\n"
     ]
    },
    {
     "data": {
      "text/html": [
       "<div>\n",
       "<style scoped>\n",
       "    .dataframe tbody tr th:only-of-type {\n",
       "        vertical-align: middle;\n",
       "    }\n",
       "\n",
       "    .dataframe tbody tr th {\n",
       "        vertical-align: top;\n",
       "    }\n",
       "\n",
       "    .dataframe thead th {\n",
       "        text-align: right;\n",
       "    }\n",
       "</style>\n",
       "<table border=\"1\" class=\"dataframe\">\n",
       "  <thead>\n",
       "    <tr style=\"text-align: right;\">\n",
       "      <th></th>\n",
       "      <th>Response</th>\n",
       "      <th>Label</th>\n",
       "    </tr>\n",
       "  </thead>\n",
       "  <tbody>\n",
       "    <tr>\n",
       "      <th>0</th>\n",
       "      <td>paisa</td>\n",
       "      <td>1</td>\n",
       "    </tr>\n",
       "    <tr>\n",
       "      <th>1</th>\n",
       "      <td>fek</td>\n",
       "      <td>1</td>\n",
       "    </tr>\n",
       "    <tr>\n",
       "      <th>2</th>\n",
       "      <td>tamasaha</td>\n",
       "      <td>1</td>\n",
       "    </tr>\n",
       "    <tr>\n",
       "      <th>3</th>\n",
       "      <td>dekh</td>\n",
       "      <td>1</td>\n",
       "    </tr>\n",
       "    <tr>\n",
       "      <th>4</th>\n",
       "      <td>usse</td>\n",
       "      <td>1</td>\n",
       "    </tr>\n",
       "  </tbody>\n",
       "</table>\n",
       "</div>"
      ],
      "text/plain": [
       "   Response  Label\n",
       "0     paisa      1\n",
       "1       fek      1\n",
       "2  tamasaha      1\n",
       "3      dekh      1\n",
       "4      usse      1"
      ]
     },
     "execution_count": 10,
     "metadata": {},
     "output_type": "execute_result"
    }
   ],
   "source": [
    "print(df_hindi.shape)\n",
    "print(\"total no of unique values are :\")\n",
    "print(df_hindi.nunique())\n",
    "df_hindi.head()"
   ]
  },
  {
   "cell_type": "markdown",
   "id": "60f715ca",
   "metadata": {},
   "source": [
    "# creating dataframe of english text"
   ]
  },
  {
   "cell_type": "code",
   "execution_count": 11,
   "id": "39b35917",
   "metadata": {},
   "outputs": [],
   "source": [
    "fo=open(\"chatbot.txt\",\"r\")\n",
    "chatbot_data=fo.read()\n",
    "fo.close()"
   ]
  },
  {
   "cell_type": "code",
   "execution_count": 12,
   "id": "ef16381d",
   "metadata": {},
   "outputs": [],
   "source": [
    "list_of_sentences=chatbot_data.replace(\"\\t\",\" \").split(\"\\n\")"
   ]
  },
  {
   "cell_type": "code",
   "execution_count": 13,
   "id": "b971decc",
   "metadata": {},
   "outputs": [
    {
     "name": "stdout",
     "output_type": "stream",
     "text": [
      "90834\n"
     ]
    }
   ],
   "source": [
    "corpus_of_normal_text=ngram_to_list(list_of_sentences)\n",
    "print(len(corpus_of_normal_text))"
   ]
  },
  {
   "cell_type": "markdown",
   "id": "7cc72c2d",
   "metadata": {},
   "source": [
    "# Creating dataframe of normal text¶"
   ]
  },
  {
   "cell_type": "code",
   "execution_count": 14,
   "id": "e4290e91",
   "metadata": {},
   "outputs": [],
   "source": [
    "df_chat={}\n",
    "df_chat[\"Response\"]=corpus_of_normal_text\n",
    "df_chat[\"Label\"]=[0 for i in range(len(corpus_of_normal_text))]\n",
    "df_chat=pd.DataFrame(df_chat)"
   ]
  },
  {
   "cell_type": "code",
   "execution_count": 15,
   "id": "5523ecc6",
   "metadata": {},
   "outputs": [
    {
     "name": "stdout",
     "output_type": "stream",
     "text": [
      "(90834, 2)\n",
      "total no of unique values are :\n",
      "Response    90834\n",
      "Label           1\n",
      "dtype: int64\n"
     ]
    },
    {
     "data": {
      "text/html": [
       "<div>\n",
       "<style scoped>\n",
       "    .dataframe tbody tr th:only-of-type {\n",
       "        vertical-align: middle;\n",
       "    }\n",
       "\n",
       "    .dataframe tbody tr th {\n",
       "        vertical-align: top;\n",
       "    }\n",
       "\n",
       "    .dataframe thead th {\n",
       "        text-align: right;\n",
       "    }\n",
       "</style>\n",
       "<table border=\"1\" class=\"dataframe\">\n",
       "  <thead>\n",
       "    <tr style=\"text-align: right;\">\n",
       "      <th></th>\n",
       "      <th>Response</th>\n",
       "      <th>Label</th>\n",
       "    </tr>\n",
       "  </thead>\n",
       "  <tbody>\n",
       "    <tr>\n",
       "      <th>0</th>\n",
       "      <td>what</td>\n",
       "      <td>0</td>\n",
       "    </tr>\n",
       "    <tr>\n",
       "      <th>1</th>\n",
       "      <td>are</td>\n",
       "      <td>0</td>\n",
       "    </tr>\n",
       "    <tr>\n",
       "      <th>2</th>\n",
       "      <td>your</td>\n",
       "      <td>0</td>\n",
       "    </tr>\n",
       "    <tr>\n",
       "      <th>3</th>\n",
       "      <td>interests</td>\n",
       "      <td>0</td>\n",
       "    </tr>\n",
       "    <tr>\n",
       "      <th>4</th>\n",
       "      <td>am</td>\n",
       "      <td>0</td>\n",
       "    </tr>\n",
       "  </tbody>\n",
       "</table>\n",
       "</div>"
      ],
      "text/plain": [
       "    Response  Label\n",
       "0       what      0\n",
       "1        are      0\n",
       "2       your      0\n",
       "3  interests      0\n",
       "4         am      0"
      ]
     },
     "execution_count": 15,
     "metadata": {},
     "output_type": "execute_result"
    }
   ],
   "source": [
    "print(df_chat.shape)\n",
    "print(\"total no of unique values are :\")\n",
    "print(df_chat.nunique())\n",
    "df_chat.head()"
   ]
  },
  {
   "cell_type": "markdown",
   "id": "ccaac6ee",
   "metadata": {},
   "source": [
    "# combining df_hindi and df_chat"
   ]
  },
  {
   "cell_type": "code",
   "execution_count": 16,
   "id": "d653f188",
   "metadata": {},
   "outputs": [],
   "source": [
    "df_main=pd.concat([df_hindi,df_chat],ignore_index=True)"
   ]
  },
  {
   "cell_type": "code",
   "execution_count": 17,
   "id": "4c7c2775",
   "metadata": {},
   "outputs": [
    {
     "name": "stdout",
     "output_type": "stream",
     "text": [
      "(121652, 2)\n",
      "total no of unique values are :\n",
      "Response    121575\n",
      "Label            2\n",
      "dtype: int64\n"
     ]
    },
    {
     "data": {
      "text/html": [
       "<div>\n",
       "<style scoped>\n",
       "    .dataframe tbody tr th:only-of-type {\n",
       "        vertical-align: middle;\n",
       "    }\n",
       "\n",
       "    .dataframe tbody tr th {\n",
       "        vertical-align: top;\n",
       "    }\n",
       "\n",
       "    .dataframe thead th {\n",
       "        text-align: right;\n",
       "    }\n",
       "</style>\n",
       "<table border=\"1\" class=\"dataframe\">\n",
       "  <thead>\n",
       "    <tr style=\"text-align: right;\">\n",
       "      <th></th>\n",
       "      <th>Response</th>\n",
       "      <th>Label</th>\n",
       "    </tr>\n",
       "  </thead>\n",
       "  <tbody>\n",
       "    <tr>\n",
       "      <th>0</th>\n",
       "      <td>paisa</td>\n",
       "      <td>1</td>\n",
       "    </tr>\n",
       "    <tr>\n",
       "      <th>1</th>\n",
       "      <td>fek</td>\n",
       "      <td>1</td>\n",
       "    </tr>\n",
       "    <tr>\n",
       "      <th>2</th>\n",
       "      <td>tamasaha</td>\n",
       "      <td>1</td>\n",
       "    </tr>\n",
       "    <tr>\n",
       "      <th>3</th>\n",
       "      <td>dekh</td>\n",
       "      <td>1</td>\n",
       "    </tr>\n",
       "    <tr>\n",
       "      <th>4</th>\n",
       "      <td>usse</td>\n",
       "      <td>1</td>\n",
       "    </tr>\n",
       "  </tbody>\n",
       "</table>\n",
       "</div>"
      ],
      "text/plain": [
       "   Response  Label\n",
       "0     paisa      1\n",
       "1       fek      1\n",
       "2  tamasaha      1\n",
       "3      dekh      1\n",
       "4      usse      1"
      ]
     },
     "execution_count": 17,
     "metadata": {},
     "output_type": "execute_result"
    }
   ],
   "source": [
    "print(df_main.shape)\n",
    "print(\"total no of unique values are :\")\n",
    "print(df_main.nunique())\n",
    "df_main.head()"
   ]
  },
  {
   "cell_type": "code",
   "execution_count": 18,
   "id": "4da31e11",
   "metadata": {},
   "outputs": [
    {
     "data": {
      "text/html": [
       "<div>\n",
       "<style scoped>\n",
       "    .dataframe tbody tr th:only-of-type {\n",
       "        vertical-align: middle;\n",
       "    }\n",
       "\n",
       "    .dataframe tbody tr th {\n",
       "        vertical-align: top;\n",
       "    }\n",
       "\n",
       "    .dataframe thead th {\n",
       "        text-align: right;\n",
       "    }\n",
       "</style>\n",
       "<table border=\"1\" class=\"dataframe\">\n",
       "  <thead>\n",
       "    <tr style=\"text-align: right;\">\n",
       "      <th></th>\n",
       "      <th>Response</th>\n",
       "      <th>Label</th>\n",
       "    </tr>\n",
       "  </thead>\n",
       "  <tbody>\n",
       "    <tr>\n",
       "      <th>121647</th>\n",
       "      <td>use sense similar to sonar to determine the lo...</td>\n",
       "      <td>0</td>\n",
       "    </tr>\n",
       "    <tr>\n",
       "      <th>121648</th>\n",
       "      <td>sense similar to sonar to determine the locati...</td>\n",
       "      <td>0</td>\n",
       "    </tr>\n",
       "    <tr>\n",
       "      <th>121649</th>\n",
       "      <td>dolphins use sense similar to sonar to determi...</td>\n",
       "      <td>0</td>\n",
       "    </tr>\n",
       "    <tr>\n",
       "      <th>121650</th>\n",
       "      <td>use sense similar to sonar to determine the lo...</td>\n",
       "      <td>0</td>\n",
       "    </tr>\n",
       "    <tr>\n",
       "      <th>121651</th>\n",
       "      <td>dolphins use sense similar to sonar to determi...</td>\n",
       "      <td>0</td>\n",
       "    </tr>\n",
       "  </tbody>\n",
       "</table>\n",
       "</div>"
      ],
      "text/plain": [
       "                                                 Response  Label\n",
       "121647  use sense similar to sonar to determine the lo...      0\n",
       "121648  sense similar to sonar to determine the locati...      0\n",
       "121649  dolphins use sense similar to sonar to determi...      0\n",
       "121650  use sense similar to sonar to determine the lo...      0\n",
       "121651  dolphins use sense similar to sonar to determi...      0"
      ]
     },
     "execution_count": 18,
     "metadata": {},
     "output_type": "execute_result"
    }
   ],
   "source": [
    "df_main.tail()"
   ]
  },
  {
   "cell_type": "markdown",
   "id": "2d7fc0fc",
   "metadata": {},
   "source": [
    "# converting of text to tokens"
   ]
  },
  {
   "cell_type": "code",
   "execution_count": 19,
   "id": "940931fe",
   "metadata": {},
   "outputs": [],
   "source": [
    "from tensorflow.keras.preprocessing.text import Tokenizer"
   ]
  },
  {
   "cell_type": "code",
   "execution_count": 20,
   "id": "fc706275",
   "metadata": {},
   "outputs": [],
   "source": [
    "vocab=100000"
   ]
  },
  {
   "cell_type": "code",
   "execution_count": 21,
   "id": "c917215a",
   "metadata": {},
   "outputs": [
    {
     "data": {
      "text/plain": [
       "1854"
      ]
     },
     "execution_count": 21,
     "metadata": {},
     "output_type": "execute_result"
    }
   ],
   "source": [
    "sentences=[]\n",
    "for i in list(df_chat[\"Response\"]):\n",
    "    review=re.sub(\"[^a-zA-Z]\",\" \",i)\n",
    "    review=review.split()\n",
    "    review=[i for i in review if i not in sentences and len(i)>1]\n",
    "    sentences.extend(review)\n",
    "len(sentences)"
   ]
  },
  {
   "cell_type": "code",
   "execution_count": 22,
   "id": "6c63a086",
   "metadata": {},
   "outputs": [],
   "source": [
    "fo=open(\"paragraph.txt\",\"r\")\n",
    "fo_text=fo.read()\n",
    "fo.close()"
   ]
  },
  {
   "cell_type": "code",
   "execution_count": 23,
   "id": "5ff8ce59",
   "metadata": {},
   "outputs": [
    {
     "data": {
      "text/plain": [
       "3920"
      ]
     },
     "execution_count": 23,
     "metadata": {},
     "output_type": "execute_result"
    }
   ],
   "source": [
    "for i in fo_text.split():\n",
    "    i=re.sub(\"[^a-zA-Z]\",\"\",i)\n",
    "    if i not in sentences and len(i)>1:\n",
    "        sentences.append(i)\n",
    "len(sentences)"
   ]
  },
  {
   "cell_type": "code",
   "execution_count": 24,
   "id": "16982f87",
   "metadata": {},
   "outputs": [],
   "source": [
    "tokenizer=Tokenizer(num_words=vocab,oov_token=\"<OOV>\")"
   ]
  },
  {
   "cell_type": "code",
   "execution_count": 25,
   "id": "a6e3b8ef",
   "metadata": {},
   "outputs": [],
   "source": [
    "tokenizer.fit_on_texts(sentences)"
   ]
  },
  {
   "cell_type": "code",
   "execution_count": 26,
   "id": "b5e84348",
   "metadata": {},
   "outputs": [
    {
     "data": {
      "text/plain": [
       "3618"
      ]
     },
     "execution_count": 26,
     "metadata": {},
     "output_type": "execute_result"
    }
   ],
   "source": [
    "len(tokenizer.word_index)"
   ]
  },
  {
   "cell_type": "code",
   "execution_count": 27,
   "id": "2d30ab64",
   "metadata": {},
   "outputs": [],
   "source": [
    "sequences=tokenizer.texts_to_sequences(df_main[\"Response\"])"
   ]
  },
  {
   "cell_type": "code",
   "execution_count": 28,
   "id": "52fcce84",
   "metadata": {},
   "outputs": [
    {
     "name": "stdout",
     "output_type": "stream",
     "text": [
      "69\n"
     ]
    }
   ],
   "source": [
    "max_len=0\n",
    "for i in sequences:\n",
    "    if len(i)>max_len:\n",
    "        max_len=len(i)\n",
    "print(max_len)"
   ]
  },
  {
   "cell_type": "code",
   "execution_count": 29,
   "id": "bb1e7252",
   "metadata": {},
   "outputs": [],
   "source": [
    "from tensorflow.keras.preprocessing.sequence import pad_sequences"
   ]
  },
  {
   "cell_type": "code",
   "execution_count": 30,
   "id": "a43e71d7",
   "metadata": {},
   "outputs": [],
   "source": [
    "padded=pad_sequences(sequences,maxlen=max_len)"
   ]
  },
  {
   "cell_type": "code",
   "execution_count": 31,
   "id": "b9853c6a",
   "metadata": {},
   "outputs": [
    {
     "data": {
      "text/plain": [
       "array([[   0,    0,    0, ...,    0,    0,    1],\n",
       "       [   0,    0,    0, ...,    0,    0,    1],\n",
       "       [   0,    0,    0, ...,    0,    0,    1],\n",
       "       ...,\n",
       "       [   0,    0,    0, ...,    3, 1956, 1957],\n",
       "       [   0,    0,    0, ..., 1956, 1957, 1958],\n",
       "       [   0,    0,    0, ..., 1956, 1957, 1958]])"
      ]
     },
     "execution_count": 31,
     "metadata": {},
     "output_type": "execute_result"
    }
   ],
   "source": [
    "padded"
   ]
  },
  {
   "cell_type": "markdown",
   "id": "25734319",
   "metadata": {},
   "source": [
    "# splitting training and test data"
   ]
  },
  {
   "cell_type": "code",
   "execution_count": 32,
   "id": "7edeeb65",
   "metadata": {},
   "outputs": [],
   "source": [
    "from sklearn.model_selection import train_test_split"
   ]
  },
  {
   "cell_type": "code",
   "execution_count": 33,
   "id": "08f72228",
   "metadata": {},
   "outputs": [],
   "source": [
    "X_train, X_test, y_train, y_test = train_test_split(padded, df_main[\"Label\"], test_size=0.40,random_state=0)"
   ]
  },
  {
   "cell_type": "code",
   "execution_count": 34,
   "id": "8ad79f7e",
   "metadata": {},
   "outputs": [
    {
     "name": "stdout",
     "output_type": "stream",
     "text": [
      "the shape of X_train is :  (72991, 69)\n",
      "the shape of X_test is :  (48661, 69)\n",
      "the shape of y_train is :  (72991,)\n",
      "the shape of y_test is :  (48661,)\n"
     ]
    }
   ],
   "source": [
    "print(\"the shape of X_train is : \",X_train.shape)\n",
    "print(\"the shape of X_test is : \",X_test.shape)\n",
    "print(\"the shape of y_train is : \",y_train.shape)\n",
    "print(\"the shape of y_test is : \",y_test.shape)"
   ]
  },
  {
   "cell_type": "code",
   "execution_count": 35,
   "id": "028274d1",
   "metadata": {},
   "outputs": [
    {
     "name": "stdout",
     "output_type": "stream",
     "text": [
      "0    36386\n",
      "1    12275\n",
      "Name: Label, dtype: int64\n"
     ]
    }
   ],
   "source": [
    "print(y_test.value_counts())"
   ]
  },
  {
   "cell_type": "code",
   "execution_count": 36,
   "id": "81ea84cb",
   "metadata": {},
   "outputs": [],
   "source": [
    "import keras"
   ]
  },
  {
   "cell_type": "code",
   "execution_count": 37,
   "id": "45e3b243",
   "metadata": {},
   "outputs": [],
   "source": [
    "model = keras.models.Sequential([\n",
    "    keras.layers.Embedding(vocab, 64),\n",
    "    keras.layers.GlobalAveragePooling1D(),\n",
    "    keras.layers.Dense(64, activation=\"relu\"),\n",
    "    keras.layers.Dropout(rate=0.25),\n",
    "    keras.layers.Dense(32, activation=\"relu\"),\n",
    "    keras.layers.Dropout(rate=0.25),\n",
    "    keras.layers.Dense(1, activation=\"sigmoid\")\n",
    "])"
   ]
  },
  {
   "cell_type": "code",
   "execution_count": 38,
   "id": "4bded9bd",
   "metadata": {},
   "outputs": [],
   "source": [
    "model.compile(optimizer=\"adam\",loss='binary_crossentropy',metrics=[\"acc\"])"
   ]
  },
  {
   "cell_type": "code",
   "execution_count": 39,
   "id": "e7365c80",
   "metadata": {},
   "outputs": [
    {
     "name": "stdout",
     "output_type": "stream",
     "text": [
      "2281/2281 [==============================] - 402s 170ms/step - loss: 0.0380 - acc: 0.9856 - val_loss: 0.0073 - val_acc: 0.9982\n"
     ]
    }
   ],
   "source": [
    "history = model.fit(X_train, y_train, epochs=1, validation_data=(X_test, y_test),  verbose=1)"
   ]
  },
  {
   "cell_type": "code",
   "execution_count": 40,
   "id": "2dfcd90d",
   "metadata": {},
   "outputs": [
    {
     "name": "stdout",
     "output_type": "stream",
     "text": [
      "1521/1521 [==============================] - 3s 1ms/step\n"
     ]
    }
   ],
   "source": [
    "y_predict=model.predict(X_test)"
   ]
  },
  {
   "cell_type": "code",
   "execution_count": 41,
   "id": "88b01731",
   "metadata": {},
   "outputs": [],
   "source": [
    "y_predict=y_predict>0.5"
   ]
  },
  {
   "cell_type": "code",
   "execution_count": 42,
   "id": "33d6562f",
   "metadata": {},
   "outputs": [],
   "source": [
    "from sklearn.metrics import accuracy_score,classification_report"
   ]
  },
  {
   "cell_type": "code",
   "execution_count": 43,
   "id": "46c9f3b1",
   "metadata": {},
   "outputs": [
    {
     "data": {
      "text/plain": [
       "0.9982121205893837"
      ]
     },
     "execution_count": 43,
     "metadata": {},
     "output_type": "execute_result"
    }
   ],
   "source": [
    "accuracy_score(y_predict,y_test)"
   ]
  },
  {
   "cell_type": "code",
   "execution_count": 44,
   "id": "f483521e",
   "metadata": {},
   "outputs": [
    {
     "name": "stdout",
     "output_type": "stream",
     "text": [
      "              precision    recall  f1-score   support\n",
      "\n",
      "       False       1.00      1.00      1.00     36473\n",
      "        True       0.99      1.00      1.00     12188\n",
      "\n",
      "    accuracy                           1.00     48661\n",
      "   macro avg       1.00      1.00      1.00     48661\n",
      "weighted avg       1.00      1.00      1.00     48661\n",
      "\n"
     ]
    }
   ],
   "source": [
    "print(classification_report(y_predict,y_test))"
   ]
  },
  {
   "cell_type": "markdown",
   "id": "4adc9f9c",
   "metadata": {},
   "source": [
    "# testing the text"
   ]
  },
  {
   "cell_type": "markdown",
   "id": "12415f54",
   "metadata": {},
   "source": [
    "named entities cant be recognized\n",
    "\n",
    "spelling mistakes are taken as hindi\n",
    "\n",
    "shortcuts cant be predicted\n",
    "\n",
    "mixture of hindi and normal text classification is sometimes unpredictable it depends on maximum no of words\n",
    "\n",
    "it will not work for multi class classification"
   ]
  },
  {
   "cell_type": "code",
   "execution_count": 45,
   "id": "c4154786",
   "metadata": {},
   "outputs": [],
   "source": [
    "def testing_text(text):\n",
    "    dummy=[]\n",
    "    dummy.append(text)\n",
    "    sequences=tokenizer.texts_to_sequences(dummy)\n",
    "    print(sequences)\n",
    "    padded=pad_sequences(sequences,maxlen=max_len)\n",
    "    print(padded)\n",
    "    y=model.predict(padded)\n",
    "    print(\"predicted value :\",y)\n",
    "    y=y>0.5\n",
    "    if y:\n",
    "        print(\"text is hindi\")\n",
    "    else:\n",
    "        print(\"text is english\")"
   ]
  },
  {
   "cell_type": "code",
   "execution_count": 46,
   "id": "3eb4df66",
   "metadata": {},
   "outputs": [
    {
     "name": "stdout",
     "output_type": "stream",
     "text": [
      "[[1794, 1034, 58, 293, 25, 782]]\n",
      "[[   0    0    0    0    0    0    0    0    0    0    0    0    0    0\n",
      "     0    0    0    0    0    0    0    0    0    0    0    0    0    0\n",
      "     0    0    0    0    0    0    0    0    0    0    0    0    0    0\n",
      "     0    0    0    0    0    0    0    0    0    0    0    0    0    0\n",
      "     0    0    0    0    0    0    0 1794 1034   58  293   25  782]]\n",
      "1/1 [==============================] - 0s 173ms/step\n",
      "predicted value : [[2.8640998e-05]]\n",
      "text is english\n"
     ]
    }
   ],
   "source": [
    "testing_text(\"hello morning how are you doing\")"
   ]
  },
  {
   "cell_type": "code",
   "execution_count": 47,
   "id": "277a26aa",
   "metadata": {},
   "outputs": [
    {
     "name": "stdout",
     "output_type": "stream",
     "text": [
      "[[1, 1]]\n",
      "[[0 0 0 0 0 0 0 0 0 0 0 0 0 0 0 0 0 0 0 0 0 0 0 0 0 0 0 0 0 0 0 0 0 0 0 0\n",
      "  0 0 0 0 0 0 0 0 0 0 0 0 0 0 0 0 0 0 0 0 0 0 0 0 0 0 0 0 0 0 0 1 1]]\n",
      "1/1 [==============================] - 0s 31ms/step\n",
      "predicted value : [[0.9994804]]\n",
      "text is hindi\n"
     ]
    }
   ],
   "source": [
    "testing_text(\"kaise ho\")"
   ]
  },
  {
   "cell_type": "code",
   "execution_count": 48,
   "id": "31619357",
   "metadata": {},
   "outputs": [
    {
     "name": "stdout",
     "output_type": "stream",
     "text": [
      "[[1, 1, 1]]\n",
      "[[0 0 0 0 0 0 0 0 0 0 0 0 0 0 0 0 0 0 0 0 0 0 0 0 0 0 0 0 0 0 0 0 0 0 0 0\n",
      "  0 0 0 0 0 0 0 0 0 0 0 0 0 0 0 0 0 0 0 0 0 0 0 0 0 0 0 0 0 0 1 1 1]]\n",
      "1/1 [==============================] - 0s 24ms/step\n",
      "predicted value : [[0.99997854]]\n",
      "text is hindi\n"
     ]
    }
   ],
   "source": [
    "testing_text(\"bhaiyya kahn ho\")"
   ]
  },
  {
   "cell_type": "code",
   "execution_count": 49,
   "id": "52fada15",
   "metadata": {},
   "outputs": [
    {
     "name": "stdout",
     "output_type": "stream",
     "text": [
      "[[2671, 1, 1, 1, 1]]\n",
      "[[   0    0    0    0    0    0    0    0    0    0    0    0    0    0\n",
      "     0    0    0    0    0    0    0    0    0    0    0    0    0    0\n",
      "     0    0    0    0    0    0    0    0    0    0    0    0    0    0\n",
      "     0    0    0    0    0    0    0    0    0    0    0    0    0    0\n",
      "     0    0    0    0    0    0    0    0 2671    1    1    1    1]]\n",
      "1/1 [==============================] - 0s 32ms/step\n",
      "predicted value : [[0.9999991]]\n",
      "text is hindi\n"
     ]
    }
   ],
   "source": [
    "testing_text(\"ap kya kar rahe ho\")"
   ]
  },
  {
   "cell_type": "code",
   "execution_count": null,
   "id": "cf94c511",
   "metadata": {},
   "outputs": [],
   "source": []
  }
 ],
 "metadata": {
  "kernelspec": {
   "display_name": "Python 3 (ipykernel)",
   "language": "python",
   "name": "python3"
  },
  "language_info": {
   "codemirror_mode": {
    "name": "ipython",
    "version": 3
   },
   "file_extension": ".py",
   "mimetype": "text/x-python",
   "name": "python",
   "nbconvert_exporter": "python",
   "pygments_lexer": "ipython3",
   "version": "3.9.13"
  }
 },
 "nbformat": 4,
 "nbformat_minor": 5
}
