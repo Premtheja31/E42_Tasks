{
 "cells": [
  {
   "cell_type": "code",
   "execution_count": 1,
   "id": "ad69cd15",
   "metadata": {},
   "outputs": [],
   "source": [
    "fo=open(\"chatbot.txt\",\"r\")\n",
    "chatbot_data=fo.read()\n",
    "fo.close()"
   ]
  },
  {
   "cell_type": "code",
   "execution_count": 2,
   "id": "72945b85",
   "metadata": {},
   "outputs": [],
   "source": [
    "list_of_sentences=chatbot_data.replace(\"\\t\",\" \").split(\"\\n\")"
   ]
  },
  {
   "cell_type": "code",
   "execution_count": 3,
   "id": "d990a9a2",
   "metadata": {},
   "outputs": [],
   "source": [
    "import re\n",
    "from sklearn.feature_extraction.text import CountVectorizer"
   ]
  },
  {
   "cell_type": "code",
   "execution_count": 4,
   "id": "8d94aa2b",
   "metadata": {},
   "outputs": [],
   "source": [
    "def ngram_to_list(sentences):\n",
    "    corpus=[]\n",
    "    count_is=0\n",
    "    for i in sentences:\n",
    "        review=re.sub(\"[^a-zA-z]\",\" \",i)\n",
    "        corpus.append(review)\n",
    "        if len(i)>count_is:\n",
    "            count_is=len(i)\n",
    "    cv=CountVectorizer(binary=True,ngram_range=(1,count_is))\n",
    "    X=cv.fit_transform(corpus)\n",
    "    list_ngrams=list(cv.vocabulary_)\n",
    "    return list_ngrams\n"
   ]
  },
  {
   "cell_type": "code",
   "execution_count": 5,
   "id": "def3335a",
   "metadata": {},
   "outputs": [
    {
     "name": "stdout",
     "output_type": "stream",
     "text": [
      "90834\n"
     ]
    }
   ],
   "source": [
    "corpus_of_normal_text=ngram_to_list(list_of_sentences)\n",
    "print(len(corpus_of_normal_text))"
   ]
  },
  {
   "cell_type": "code",
   "execution_count": 6,
   "id": "e3144893",
   "metadata": {},
   "outputs": [],
   "source": [
    "import pandas as pd"
   ]
  },
  {
   "cell_type": "markdown",
   "id": "aa3b5fb4",
   "metadata": {},
   "source": [
    "# Creating dataframe of normal text"
   ]
  },
  {
   "cell_type": "code",
   "execution_count": 7,
   "id": "ff2d1ddf",
   "metadata": {},
   "outputs": [],
   "source": [
    "df_chat={}\n",
    "df_chat[\"Response\"]=corpus_of_normal_text\n",
    "df_chat[\"Label\"]=[0 for i in range(len(corpus_of_normal_text))]\n",
    "df_chat=pd.DataFrame(df_chat)"
   ]
  },
  {
   "cell_type": "code",
   "execution_count": 8,
   "id": "02516ac0",
   "metadata": {},
   "outputs": [
    {
     "name": "stdout",
     "output_type": "stream",
     "text": [
      "(90834, 2)\n",
      "total no of unique values are :\n",
      "Response    90834\n",
      "Label           1\n",
      "dtype: int64\n"
     ]
    },
    {
     "data": {
      "text/html": [
       "<div>\n",
       "<style scoped>\n",
       "    .dataframe tbody tr th:only-of-type {\n",
       "        vertical-align: middle;\n",
       "    }\n",
       "\n",
       "    .dataframe tbody tr th {\n",
       "        vertical-align: top;\n",
       "    }\n",
       "\n",
       "    .dataframe thead th {\n",
       "        text-align: right;\n",
       "    }\n",
       "</style>\n",
       "<table border=\"1\" class=\"dataframe\">\n",
       "  <thead>\n",
       "    <tr style=\"text-align: right;\">\n",
       "      <th></th>\n",
       "      <th>Response</th>\n",
       "      <th>Label</th>\n",
       "    </tr>\n",
       "  </thead>\n",
       "  <tbody>\n",
       "    <tr>\n",
       "      <th>0</th>\n",
       "      <td>what</td>\n",
       "      <td>0</td>\n",
       "    </tr>\n",
       "    <tr>\n",
       "      <th>1</th>\n",
       "      <td>are</td>\n",
       "      <td>0</td>\n",
       "    </tr>\n",
       "    <tr>\n",
       "      <th>2</th>\n",
       "      <td>your</td>\n",
       "      <td>0</td>\n",
       "    </tr>\n",
       "    <tr>\n",
       "      <th>3</th>\n",
       "      <td>interests</td>\n",
       "      <td>0</td>\n",
       "    </tr>\n",
       "    <tr>\n",
       "      <th>4</th>\n",
       "      <td>am</td>\n",
       "      <td>0</td>\n",
       "    </tr>\n",
       "  </tbody>\n",
       "</table>\n",
       "</div>"
      ],
      "text/plain": [
       "    Response  Label\n",
       "0       what      0\n",
       "1        are      0\n",
       "2       your      0\n",
       "3  interests      0\n",
       "4         am      0"
      ]
     },
     "execution_count": 8,
     "metadata": {},
     "output_type": "execute_result"
    }
   ],
   "source": [
    "print(df_chat.shape)\n",
    "print(\"total no of unique values are :\")\n",
    "print(df_chat.nunique())\n",
    "df_chat.head()"
   ]
  },
  {
   "cell_type": "markdown",
   "id": "bb7570b0",
   "metadata": {},
   "source": [
    "# Creating dataframe of gibberish text"
   ]
  },
  {
   "cell_type": "code",
   "execution_count": 9,
   "id": "d24d11c2",
   "metadata": {},
   "outputs": [],
   "source": [
    "df_gibberish=pd.read_csv(\"Gibberish.csv\")"
   ]
  },
  {
   "cell_type": "code",
   "execution_count": 10,
   "id": "908a4370",
   "metadata": {},
   "outputs": [
    {
     "name": "stdout",
     "output_type": "stream",
     "text": [
      "(3767, 2)\n",
      "total no of unique values are :\n",
      "Response    3516\n",
      "Label          1\n",
      "dtype: int64\n"
     ]
    },
    {
     "data": {
      "text/html": [
       "<div>\n",
       "<style scoped>\n",
       "    .dataframe tbody tr th:only-of-type {\n",
       "        vertical-align: middle;\n",
       "    }\n",
       "\n",
       "    .dataframe tbody tr th {\n",
       "        vertical-align: top;\n",
       "    }\n",
       "\n",
       "    .dataframe thead th {\n",
       "        text-align: right;\n",
       "    }\n",
       "</style>\n",
       "<table border=\"1\" class=\"dataframe\">\n",
       "  <thead>\n",
       "    <tr style=\"text-align: right;\">\n",
       "      <th></th>\n",
       "      <th>Response</th>\n",
       "      <th>Label</th>\n",
       "    </tr>\n",
       "  </thead>\n",
       "  <tbody>\n",
       "    <tr>\n",
       "      <th>0</th>\n",
       "      <td>ggg</td>\n",
       "      <td>1</td>\n",
       "    </tr>\n",
       "    <tr>\n",
       "      <th>1</th>\n",
       "      <td>hgghghghghghghhg</td>\n",
       "      <td>1</td>\n",
       "    </tr>\n",
       "    <tr>\n",
       "      <th>2</th>\n",
       "      <td>ufdhgjndfnvbhfdjvnjkmfgbdfg</td>\n",
       "      <td>1</td>\n",
       "    </tr>\n",
       "    <tr>\n",
       "      <th>3</th>\n",
       "      <td>dbdbdbd</td>\n",
       "      <td>1</td>\n",
       "    </tr>\n",
       "    <tr>\n",
       "      <th>4</th>\n",
       "      <td>dfgdfgd</td>\n",
       "      <td>1</td>\n",
       "    </tr>\n",
       "  </tbody>\n",
       "</table>\n",
       "</div>"
      ],
      "text/plain": [
       "                      Response  Label\n",
       "0                          ggg      1\n",
       "1             hgghghghghghghhg      1\n",
       "2  ufdhgjndfnvbhfdjvnjkmfgbdfg      1\n",
       "3                      dbdbdbd      1\n",
       "4                      dfgdfgd      1"
      ]
     },
     "execution_count": 10,
     "metadata": {},
     "output_type": "execute_result"
    }
   ],
   "source": [
    "print(df_gibberish.shape)\n",
    "print(\"total no of unique values are :\")\n",
    "print(df_gibberish.nunique())\n",
    "df_gibberish.head()"
   ]
  },
  {
   "cell_type": "code",
   "execution_count": 11,
   "id": "f6b4b671",
   "metadata": {},
   "outputs": [],
   "source": [
    "list_of_gibberish=list(df_gibberish[\"Response\"])"
   ]
  },
  {
   "cell_type": "code",
   "execution_count": 12,
   "id": "508d8b74",
   "metadata": {},
   "outputs": [
    {
     "name": "stdout",
     "output_type": "stream",
     "text": [
      "23239\n"
     ]
    }
   ],
   "source": [
    "corpus_of_gibberish_text=ngram_to_list(list_of_gibberish)\n",
    "print(len(corpus_of_gibberish_text))"
   ]
  },
  {
   "cell_type": "code",
   "execution_count": 13,
   "id": "4e379489",
   "metadata": {},
   "outputs": [],
   "source": [
    "df_gibberish={}\n",
    "df_gibberish[\"Response\"]=corpus_of_gibberish_text\n",
    "df_gibberish[\"Label\"]=[1 for i in range(len(corpus_of_gibberish_text))]\n",
    "df_gibberish=pd.DataFrame(df_gibberish)"
   ]
  },
  {
   "cell_type": "code",
   "execution_count": 14,
   "id": "09b42b89",
   "metadata": {},
   "outputs": [
    {
     "name": "stdout",
     "output_type": "stream",
     "text": [
      "(23239, 2)\n",
      "total no of unique values are :\n",
      "Response    23239\n",
      "Label           1\n",
      "dtype: int64\n"
     ]
    },
    {
     "data": {
      "text/html": [
       "<div>\n",
       "<style scoped>\n",
       "    .dataframe tbody tr th:only-of-type {\n",
       "        vertical-align: middle;\n",
       "    }\n",
       "\n",
       "    .dataframe tbody tr th {\n",
       "        vertical-align: top;\n",
       "    }\n",
       "\n",
       "    .dataframe thead th {\n",
       "        text-align: right;\n",
       "    }\n",
       "</style>\n",
       "<table border=\"1\" class=\"dataframe\">\n",
       "  <thead>\n",
       "    <tr style=\"text-align: right;\">\n",
       "      <th></th>\n",
       "      <th>Response</th>\n",
       "      <th>Label</th>\n",
       "    </tr>\n",
       "  </thead>\n",
       "  <tbody>\n",
       "    <tr>\n",
       "      <th>0</th>\n",
       "      <td>ggg</td>\n",
       "      <td>1</td>\n",
       "    </tr>\n",
       "    <tr>\n",
       "      <th>1</th>\n",
       "      <td>hgghghghghghghhg</td>\n",
       "      <td>1</td>\n",
       "    </tr>\n",
       "    <tr>\n",
       "      <th>2</th>\n",
       "      <td>ufdhgjndfnvbhfdjvnjkmfgbdfg</td>\n",
       "      <td>1</td>\n",
       "    </tr>\n",
       "    <tr>\n",
       "      <th>3</th>\n",
       "      <td>dbdbdbd</td>\n",
       "      <td>1</td>\n",
       "    </tr>\n",
       "    <tr>\n",
       "      <th>4</th>\n",
       "      <td>dfgdfgd</td>\n",
       "      <td>1</td>\n",
       "    </tr>\n",
       "  </tbody>\n",
       "</table>\n",
       "</div>"
      ],
      "text/plain": [
       "                      Response  Label\n",
       "0                          ggg      1\n",
       "1             hgghghghghghghhg      1\n",
       "2  ufdhgjndfnvbhfdjvnjkmfgbdfg      1\n",
       "3                      dbdbdbd      1\n",
       "4                      dfgdfgd      1"
      ]
     },
     "execution_count": 14,
     "metadata": {},
     "output_type": "execute_result"
    }
   ],
   "source": [
    "print(df_gibberish.shape)\n",
    "print(\"total no of unique values are :\")\n",
    "print(df_gibberish.nunique())\n",
    "df_gibberish.head()"
   ]
  },
  {
   "cell_type": "markdown",
   "id": "f7322704",
   "metadata": {},
   "source": [
    "# combining df_chat and df_gibberish"
   ]
  },
  {
   "cell_type": "code",
   "execution_count": 15,
   "id": "35b96407",
   "metadata": {},
   "outputs": [],
   "source": [
    "df_main=pd.concat([df_gibberish,df_chat],ignore_index=True)"
   ]
  },
  {
   "cell_type": "code",
   "execution_count": 16,
   "id": "c26caa38",
   "metadata": {},
   "outputs": [
    {
     "name": "stdout",
     "output_type": "stream",
     "text": [
      "(114073, 2)\n",
      "total no of unique values are :\n",
      "Response    113989\n",
      "Label            2\n",
      "dtype: int64\n"
     ]
    },
    {
     "data": {
      "text/html": [
       "<div>\n",
       "<style scoped>\n",
       "    .dataframe tbody tr th:only-of-type {\n",
       "        vertical-align: middle;\n",
       "    }\n",
       "\n",
       "    .dataframe tbody tr th {\n",
       "        vertical-align: top;\n",
       "    }\n",
       "\n",
       "    .dataframe thead th {\n",
       "        text-align: right;\n",
       "    }\n",
       "</style>\n",
       "<table border=\"1\" class=\"dataframe\">\n",
       "  <thead>\n",
       "    <tr style=\"text-align: right;\">\n",
       "      <th></th>\n",
       "      <th>Response</th>\n",
       "      <th>Label</th>\n",
       "    </tr>\n",
       "  </thead>\n",
       "  <tbody>\n",
       "    <tr>\n",
       "      <th>0</th>\n",
       "      <td>ggg</td>\n",
       "      <td>1</td>\n",
       "    </tr>\n",
       "    <tr>\n",
       "      <th>1</th>\n",
       "      <td>hgghghghghghghhg</td>\n",
       "      <td>1</td>\n",
       "    </tr>\n",
       "    <tr>\n",
       "      <th>2</th>\n",
       "      <td>ufdhgjndfnvbhfdjvnjkmfgbdfg</td>\n",
       "      <td>1</td>\n",
       "    </tr>\n",
       "    <tr>\n",
       "      <th>3</th>\n",
       "      <td>dbdbdbd</td>\n",
       "      <td>1</td>\n",
       "    </tr>\n",
       "    <tr>\n",
       "      <th>4</th>\n",
       "      <td>dfgdfgd</td>\n",
       "      <td>1</td>\n",
       "    </tr>\n",
       "  </tbody>\n",
       "</table>\n",
       "</div>"
      ],
      "text/plain": [
       "                      Response  Label\n",
       "0                          ggg      1\n",
       "1             hgghghghghghghhg      1\n",
       "2  ufdhgjndfnvbhfdjvnjkmfgbdfg      1\n",
       "3                      dbdbdbd      1\n",
       "4                      dfgdfgd      1"
      ]
     },
     "execution_count": 16,
     "metadata": {},
     "output_type": "execute_result"
    }
   ],
   "source": [
    "print(df_main.shape)\n",
    "print(\"total no of unique values are :\")\n",
    "print(df_main.nunique())\n",
    "df_main.head()"
   ]
  },
  {
   "cell_type": "code",
   "execution_count": 17,
   "id": "61706290",
   "metadata": {},
   "outputs": [
    {
     "data": {
      "text/html": [
       "<div>\n",
       "<style scoped>\n",
       "    .dataframe tbody tr th:only-of-type {\n",
       "        vertical-align: middle;\n",
       "    }\n",
       "\n",
       "    .dataframe tbody tr th {\n",
       "        vertical-align: top;\n",
       "    }\n",
       "\n",
       "    .dataframe thead th {\n",
       "        text-align: right;\n",
       "    }\n",
       "</style>\n",
       "<table border=\"1\" class=\"dataframe\">\n",
       "  <thead>\n",
       "    <tr style=\"text-align: right;\">\n",
       "      <th></th>\n",
       "      <th>Response</th>\n",
       "      <th>Label</th>\n",
       "    </tr>\n",
       "  </thead>\n",
       "  <tbody>\n",
       "    <tr>\n",
       "      <th>114068</th>\n",
       "      <td>use sense similar to sonar to determine the lo...</td>\n",
       "      <td>0</td>\n",
       "    </tr>\n",
       "    <tr>\n",
       "      <th>114069</th>\n",
       "      <td>sense similar to sonar to determine the locati...</td>\n",
       "      <td>0</td>\n",
       "    </tr>\n",
       "    <tr>\n",
       "      <th>114070</th>\n",
       "      <td>dolphins use sense similar to sonar to determi...</td>\n",
       "      <td>0</td>\n",
       "    </tr>\n",
       "    <tr>\n",
       "      <th>114071</th>\n",
       "      <td>use sense similar to sonar to determine the lo...</td>\n",
       "      <td>0</td>\n",
       "    </tr>\n",
       "    <tr>\n",
       "      <th>114072</th>\n",
       "      <td>dolphins use sense similar to sonar to determi...</td>\n",
       "      <td>0</td>\n",
       "    </tr>\n",
       "  </tbody>\n",
       "</table>\n",
       "</div>"
      ],
      "text/plain": [
       "                                                 Response  Label\n",
       "114068  use sense similar to sonar to determine the lo...      0\n",
       "114069  sense similar to sonar to determine the locati...      0\n",
       "114070  dolphins use sense similar to sonar to determi...      0\n",
       "114071  use sense similar to sonar to determine the lo...      0\n",
       "114072  dolphins use sense similar to sonar to determi...      0"
      ]
     },
     "execution_count": 17,
     "metadata": {},
     "output_type": "execute_result"
    }
   ],
   "source": [
    "df_main.tail()"
   ]
  },
  {
   "cell_type": "markdown",
   "id": "02afa761",
   "metadata": {},
   "source": [
    "# converting of text to tokens"
   ]
  },
  {
   "cell_type": "code",
   "execution_count": 18,
   "id": "dcb1353b",
   "metadata": {},
   "outputs": [],
   "source": [
    "from tensorflow.keras.preprocessing.text import Tokenizer"
   ]
  },
  {
   "cell_type": "code",
   "execution_count": 19,
   "id": "56432309",
   "metadata": {},
   "outputs": [],
   "source": [
    "vocab=100000"
   ]
  },
  {
   "cell_type": "code",
   "execution_count": 20,
   "id": "93df74d0",
   "metadata": {},
   "outputs": [
    {
     "data": {
      "text/plain": [
       "90834"
      ]
     },
     "execution_count": 20,
     "metadata": {},
     "output_type": "execute_result"
    }
   ],
   "source": [
    "sentences=list(df_chat[\"Response\"])\n",
    "len(sentences)"
   ]
  },
  {
   "cell_type": "code",
   "execution_count": 21,
   "id": "975ea708",
   "metadata": {},
   "outputs": [],
   "source": [
    "fo=open(\"paragraph.txt\",\"r\")\n",
    "fo_text=fo.read()\n",
    "fo.close()"
   ]
  },
  {
   "cell_type": "code",
   "execution_count": 22,
   "id": "6b193f30",
   "metadata": {},
   "outputs": [],
   "source": [
    "sentences+=fo_text.split()"
   ]
  },
  {
   "cell_type": "code",
   "execution_count": 23,
   "id": "cfbc7e01",
   "metadata": {},
   "outputs": [
    {
     "data": {
      "text/plain": [
       "99853"
      ]
     },
     "execution_count": 23,
     "metadata": {},
     "output_type": "execute_result"
    }
   ],
   "source": [
    "len(sentences)"
   ]
  },
  {
   "cell_type": "code",
   "execution_count": 24,
   "id": "1e2fec24",
   "metadata": {},
   "outputs": [],
   "source": [
    "tokenizer=Tokenizer(num_words=vocab,oov_token=\"<OOV>\")"
   ]
  },
  {
   "cell_type": "code",
   "execution_count": 25,
   "id": "0dacead1",
   "metadata": {},
   "outputs": [],
   "source": [
    "tokenizer.fit_on_texts(sentences)"
   ]
  },
  {
   "cell_type": "code",
   "execution_count": 26,
   "id": "a69a7194",
   "metadata": {},
   "outputs": [
    {
     "data": {
      "text/plain": [
       "3643"
      ]
     },
     "execution_count": 26,
     "metadata": {},
     "output_type": "execute_result"
    }
   ],
   "source": [
    "len(tokenizer.word_index)"
   ]
  },
  {
   "cell_type": "code",
   "execution_count": 27,
   "id": "0db4d6ef",
   "metadata": {},
   "outputs": [],
   "source": [
    "sequences=tokenizer.texts_to_sequences(df_main[\"Response\"])"
   ]
  },
  {
   "cell_type": "code",
   "execution_count": 61,
   "id": "8ae1bb34",
   "metadata": {},
   "outputs": [
    {
     "name": "stdout",
     "output_type": "stream",
     "text": [
      "69\n"
     ]
    }
   ],
   "source": [
    "max_len=0\n",
    "for i in sequences:\n",
    "    if len(i)>max_len:\n",
    "        max_len=len(i)\n",
    "print(max_len)"
   ]
  },
  {
   "cell_type": "code",
   "execution_count": 28,
   "id": "c4520210",
   "metadata": {},
   "outputs": [],
   "source": [
    "from tensorflow.keras.preprocessing.sequence import pad_sequences"
   ]
  },
  {
   "cell_type": "code",
   "execution_count": 62,
   "id": "4aee90a3",
   "metadata": {},
   "outputs": [],
   "source": [
    "padded=pad_sequences(sequences,maxlen=max_len)"
   ]
  },
  {
   "cell_type": "code",
   "execution_count": 63,
   "id": "07dfd017",
   "metadata": {},
   "outputs": [
    {
     "data": {
      "text/plain": [
       "array([[   0,    0,    0, ...,    0,    0,    1],\n",
       "       [   0,    0,    0, ...,    0,    0,    1],\n",
       "       [   0,    0,    0, ...,    0,    0,    1],\n",
       "       ...,\n",
       "       [   0,    0,    0, ...,    3, 1401, 1514],\n",
       "       [   0,    0,    0, ..., 1401, 1514, 1704],\n",
       "       [   0,    0,    0, ..., 1401, 1514, 1704]])"
      ]
     },
     "execution_count": 63,
     "metadata": {},
     "output_type": "execute_result"
    }
   ],
   "source": [
    "padded"
   ]
  },
  {
   "cell_type": "markdown",
   "id": "7eaf00a9",
   "metadata": {},
   "source": [
    "# splitting training and test data"
   ]
  },
  {
   "cell_type": "code",
   "execution_count": 32,
   "id": "ddbd5442",
   "metadata": {},
   "outputs": [],
   "source": [
    "from sklearn.model_selection import train_test_split"
   ]
  },
  {
   "cell_type": "code",
   "execution_count": 39,
   "id": "75117d16",
   "metadata": {},
   "outputs": [],
   "source": [
    "X_train, X_test, y_train, y_test = train_test_split(padded, df_main[\"Label\"], test_size=0.30,random_state=0)"
   ]
  },
  {
   "cell_type": "code",
   "execution_count": 40,
   "id": "3c36f51d",
   "metadata": {},
   "outputs": [
    {
     "name": "stdout",
     "output_type": "stream",
     "text": [
      "the shape of X_train is :  (79851, 69)\n",
      "the shape of X_test is :  (34222, 69)\n",
      "the shape of y_train is :  (79851,)\n",
      "the shape of y_test is :  (34222,)\n"
     ]
    }
   ],
   "source": [
    "print(\"the shape of X_train is : \",X_train.shape)\n",
    "print(\"the shape of X_test is : \",X_test.shape)\n",
    "print(\"the shape of y_train is : \",y_train.shape)\n",
    "print(\"the shape of y_test is : \",y_test.shape)"
   ]
  },
  {
   "cell_type": "code",
   "execution_count": 41,
   "id": "93588d88",
   "metadata": {},
   "outputs": [
    {
     "name": "stdout",
     "output_type": "stream",
     "text": [
      "0    27284\n",
      "1     6938\n",
      "Name: Label, dtype: int64\n"
     ]
    }
   ],
   "source": [
    "print(y_test.value_counts())"
   ]
  },
  {
   "cell_type": "code",
   "execution_count": 42,
   "id": "0d189530",
   "metadata": {},
   "outputs": [],
   "source": [
    "import keras"
   ]
  },
  {
   "cell_type": "code",
   "execution_count": 43,
   "id": "27437035",
   "metadata": {},
   "outputs": [],
   "source": [
    "model = keras.models.Sequential([\n",
    "    keras.layers.Embedding(vocab, 64),\n",
    "    keras.layers.GlobalAveragePooling1D(),\n",
    "    keras.layers.Dense(64, activation=\"relu\"),\n",
    "    keras.layers.Dropout(rate=0.25),\n",
    "    keras.layers.Dense(32, activation=\"relu\"),\n",
    "    keras.layers.Dropout(rate=0.25),\n",
    "    keras.layers.Dense(1, activation=\"sigmoid\")\n",
    "])"
   ]
  },
  {
   "cell_type": "code",
   "execution_count": 44,
   "id": "625e1947",
   "metadata": {},
   "outputs": [],
   "source": [
    "model.compile(optimizer=\"adam\",loss='binary_crossentropy',metrics=[\"acc\"])"
   ]
  },
  {
   "cell_type": "code",
   "execution_count": 45,
   "id": "af2ed846",
   "metadata": {},
   "outputs": [
    {
     "name": "stdout",
     "output_type": "stream",
     "text": [
      "2496/2496 [==============================] - 360s 143ms/step - loss: 0.0466 - acc: 0.9840 - val_loss: 0.0065 - val_acc: 0.9986\n"
     ]
    }
   ],
   "source": [
    "history = model.fit(X_train, y_train, epochs=1, validation_data=(X_test, y_test),  verbose=1)"
   ]
  },
  {
   "cell_type": "code",
   "execution_count": 46,
   "id": "4e3b1143",
   "metadata": {},
   "outputs": [
    {
     "name": "stdout",
     "output_type": "stream",
     "text": [
      "1070/1070 [==============================] - 8s 6ms/step\n"
     ]
    }
   ],
   "source": [
    "y_predict=model.predict(X_test)"
   ]
  },
  {
   "cell_type": "code",
   "execution_count": 47,
   "id": "57b83f7e",
   "metadata": {},
   "outputs": [],
   "source": [
    "y_predict=y_predict>0.5"
   ]
  },
  {
   "cell_type": "code",
   "execution_count": 48,
   "id": "6ee774ac",
   "metadata": {},
   "outputs": [],
   "source": [
    "from sklearn.metrics import accuracy_score,classification_report"
   ]
  },
  {
   "cell_type": "code",
   "execution_count": 49,
   "id": "1e066c62",
   "metadata": {},
   "outputs": [
    {
     "data": {
      "text/plain": [
       "0.9986266144585354"
      ]
     },
     "execution_count": 49,
     "metadata": {},
     "output_type": "execute_result"
    }
   ],
   "source": [
    "accuracy_score(y_predict,y_test)"
   ]
  },
  {
   "cell_type": "code",
   "execution_count": 50,
   "id": "80375980",
   "metadata": {},
   "outputs": [
    {
     "name": "stdout",
     "output_type": "stream",
     "text": [
      "              precision    recall  f1-score   support\n",
      "\n",
      "       False       1.00      1.00      1.00     27331\n",
      "        True       0.99      1.00      1.00      6891\n",
      "\n",
      "    accuracy                           1.00     34222\n",
      "   macro avg       1.00      1.00      1.00     34222\n",
      "weighted avg       1.00      1.00      1.00     34222\n",
      "\n"
     ]
    }
   ],
   "source": [
    "print(classification_report(y_predict,y_test))"
   ]
  },
  {
   "cell_type": "markdown",
   "id": "dc6757d2",
   "metadata": {},
   "source": [
    "# testing the text"
   ]
  },
  {
   "cell_type": "code",
   "execution_count": 76,
   "id": "bebab4f8",
   "metadata": {},
   "outputs": [],
   "source": [
    "def testing_text(text):\n",
    "    dummy=[]\n",
    "    dummy.append(text)\n",
    "    sequences=tokenizer.texts_to_sequences(dummy)\n",
    "    padded=pad_sequences(sequences,maxlen=max_len)\n",
    "    y=model.predict(padded)\n",
    "    y=y>0.5\n",
    "    if y:\n",
    "        print(\"text is gibberish\")\n",
    "    else:\n",
    "        print(\"text is normal\")"
   ]
  },
  {
   "cell_type": "code",
   "execution_count": 85,
   "id": "3771e654",
   "metadata": {},
   "outputs": [
    {
     "name": "stdout",
     "output_type": "stream",
     "text": [
      "1/1 [==============================] - 0s 48ms/step\n",
      "text is normal\n"
     ]
    }
   ],
   "source": [
    "testing_text(\"hello morning\")"
   ]
  }
 ],
 "metadata": {
  "kernelspec": {
   "display_name": "Python 3 (ipykernel)",
   "language": "python",
   "name": "python3"
  },
  "language_info": {
   "codemirror_mode": {
    "name": "ipython",
    "version": 3
   },
   "file_extension": ".py",
   "mimetype": "text/x-python",
   "name": "python",
   "nbconvert_exporter": "python",
   "pygments_lexer": "ipython3",
   "version": "3.9.13"
  }
 },
 "nbformat": 4,
 "nbformat_minor": 5
}
